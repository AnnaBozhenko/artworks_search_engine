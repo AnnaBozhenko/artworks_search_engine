{
 "cells": [
  {
   "cell_type": "code",
   "execution_count": null,
   "metadata": {},
   "outputs": [],
   "source": [
    "import requests\n",
    "from requests.adapters import HTTPAdapter\n",
    "from urllib3.util.retry import Retry\n",
    "\n",
    "import pandas as pd\n",
    "\n",
    "from functools import reduce\n",
    "import pickle\n",
    "import json\n",
    "from tqdm import tqdm\n",
    "import os\n",
    "\n",
    "from datasets import Dataset\n"
   ]
  },
  {
   "cell_type": "code",
   "execution_count": null,
   "metadata": {},
   "outputs": [],
   "source": [
    "# there are downloaded with http request files from the website \n",
    "# paintings and gravures\n",
    "louvre_0 = pd.read_csv(\"22_0_to_5000.csv\", sep=\";\", quotechar='\"')\n",
    "louvre_1 = pd.read_csv(\"22_5000_to_10000.csv\", sep=\";\", quotechar='\"')\n",
    "louvre_2 = pd.read_csv(\"22_10000_to_15000.csv\", sep=\";\", quotechar='\"')\n",
    "# drawings\n",
    "louvre_3 = pd.read_csv(\"13_0_to_5000.csv\", sep=\";\", quotechar='\"')\n",
    "louvre_4 = pd.read_csv(\"13_5000_to_10000.csv\", sep=\";\", quotechar='\"')\n",
    "\n",
    "louvre = pd.concat([louvre_0, louvre_1, louvre_2, louvre_3, louvre_4], axis=0)\n"
   ]
  },
  {
   "cell_type": "code",
   "execution_count": null,
   "metadata": {},
   "outputs": [],
   "source": [
    "louvre[\"url\"] = louvre['ARK'].map(lambda ark: f\"https://collections.louvre.fr/ark:/53355/{ark}.json\")"
   ]
  },
  {
   "cell_type": "code",
   "execution_count": null,
   "metadata": {},
   "outputs": [],
   "source": [
    "def get_retrying_session(retries=5, backoff_factor=0.3, status_forcelist=(500, 502, 504)):\n",
    "    session = requests.Session()\n",
    "    retry = Retry(\n",
    "        total=retries,\n",
    "        read=retries,\n",
    "        connect=retries,\n",
    "        backoff_factor=backoff_factor,  # Exponential delay: 0.3, 0.6, 1.2, ...\n",
    "        status_forcelist=status_forcelist,\n",
    "        raise_on_status=False\n",
    "    )\n",
    "    adapter = HTTPAdapter(max_retries=retry)\n",
    "    session.mount(\"http://\", adapter)\n",
    "    session.mount(\"https://\", adapter)\n",
    "    return session\n"
   ]
  },
  {
   "cell_type": "code",
   "execution_count": null,
   "metadata": {},
   "outputs": [],
   "source": [
    "louvre_ds = []\n",
    "session = get_retrying_session()\n",
    "for piece_url in tqdm(louvre[\"url\"].values):\n",
    "    try:\n",
    "        request = session.get(piece_url)\n",
    "        request.raise_for_status()\n",
    "        louvre_ds.append(request.content)\n",
    "    except Exception as e:\n",
    "        print(f\"Failed to GET reponse from {piece_url}: {e}\")\n",
    "\n",
    "        \n"
   ]
  },
  {
   "cell_type": "code",
   "execution_count": null,
   "metadata": {},
   "outputs": [],
   "source": [
    "with open(\"louvre_ds\", \"wb\") as f:\n",
    "    pickle.dump(louvre_ds, f)"
   ]
  },
  {
   "cell_type": "code",
   "execution_count": null,
   "metadata": {},
   "outputs": [],
   "source": [
    "with open(\"louvre_ds\", \"rb\") as f:\n",
    "    louvre_ds = [json.loads(entity) for entity in pickle.load(f)]"
   ]
  },
  {
   "cell_type": "code",
   "execution_count": null,
   "metadata": {},
   "outputs": [],
   "source": [
    "def flatten(xss):\n",
    "    return [x for xs in xss for x in xs]\n"
   ]
  },
  {
   "cell_type": "code",
   "execution_count": null,
   "metadata": {},
   "outputs": [],
   "source": [
    "fields = ['title', 'classification', 'subjects', 'techniques', 'materials', 'description', 'categories', 'artist', 'id', 'date_start', 'date_end', 'department_title', 'image_id', 'full_info', 'image_url']"
   ]
  },
  {
   "cell_type": "code",
   "execution_count": null,
   "metadata": {},
   "outputs": [],
   "source": [
    "louvre_dataset = Dataset.from_pandas(pd.DataFrame(data=louvre))\n"
   ]
  },
  {
   "cell_type": "code",
   "execution_count": null,
   "metadata": {},
   "outputs": [],
   "source": [
    "num_proc = os.cpu_count()"
   ]
  },
  {
   "cell_type": "code",
   "execution_count": null,
   "metadata": {},
   "outputs": [],
   "source": [
    "\n",
    "louvre_dataset = louvre_dataset.map(lambda batch: {\n",
    "    'displayDateCreated': [x.replace('Date de création/fabrication :', '').strip() \n",
    "                           for x in batch['displayDateCreated']]\n",
    "    }, \n",
    "                   batched=True, \n",
    "                   batch_size=1000, \n",
    "                   num_proc=num_proc)"
   ]
  },
  {
   "cell_type": "code",
   "execution_count": null,
   "metadata": {},
   "outputs": [],
   "source": [
    "louvre_dataset.save_to_disk(\"louvre_ds_22_13\")"
   ]
  }
 ],
 "metadata": {
  "kernelspec": {
   "display_name": "env",
   "language": "python",
   "name": "python3"
  },
  "language_info": {
   "name": "python",
   "version": "3.12.4"
  },
  "orig_nbformat": 4
 },
 "nbformat": 4,
 "nbformat_minor": 2
}
