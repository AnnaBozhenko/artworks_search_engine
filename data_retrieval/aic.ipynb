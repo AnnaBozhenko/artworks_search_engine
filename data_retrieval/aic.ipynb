{
 "cells": [
  {
   "attachments": {},
   "cell_type": "markdown",
   "metadata": {},
   "source": [
    "# Art Institute of Chicago web scraper"
   ]
  },
  {
   "cell_type": "code",
   "execution_count": null,
   "metadata": {},
   "outputs": [],
   "source": [
    "# Terms of use\n",
    "\n",
    "# include AIC-User-Agent header:\n",
    "headers = {\"AIC-User-Agent\": \"artworks-semantic-search-application (annabozhenko2003@gmail.com)\"}"
   ]
  },
  {
   "cell_type": "code",
   "execution_count": 1,
   "metadata": {},
   "outputs": [
    {
     "name": "stderr",
     "output_type": "stream",
     "text": [
      "d:\\artworks_search_engine\\env\\Lib\\site-packages\\tqdm\\auto.py:21: TqdmWarning: IProgress not found. Please update jupyter and ipywidgets. See https://ipywidgets.readthedocs.io/en/stable/user_install.html\n",
      "  from .autonotebook import tqdm as notebook_tqdm\n"
     ]
    }
   ],
   "source": [
    "from pathlib import Path \n",
    "import os\n",
    "\n",
    "import json\n",
    "\n",
    "from datasets import load_dataset"
   ]
  },
  {
   "attachments": {},
   "cell_type": "markdown",
   "metadata": {},
   "source": [
    "# Explore artpiece json structure"
   ]
  },
  {
   "cell_type": "code",
   "execution_count": 2,
   "metadata": {},
   "outputs": [],
   "source": [
    "chicago_collection_dir = Path(r\"D:\\artworks_search_engine\\data_retrieval\\artic-api-data\\json\\artworks\")\n"
   ]
  },
  {
   "cell_type": "code",
   "execution_count": null,
   "metadata": {},
   "outputs": [],
   "source": [
    "# which entities are in the chicago  aside \n",
    "# from Prints and drawings and paintings\n",
    "# \n",
    "# "
   ]
  },
  {
   "cell_type": "code",
   "execution_count": null,
   "metadata": {},
   "outputs": [],
   "source": [
    "b"
   ]
  },
  {
   "cell_type": "code",
   "execution_count": 5,
   "metadata": {},
   "outputs": [],
   "source": [
    "important_fields = [\n",
    "'title',\n",
    "'place_of_origin',\n",
    "'medium_display',\n",
    "'classification_titles',\n",
    "'subject_titles',\n",
    "'style_title', # handle null\n",
    "'technique_titles',\n",
    "'term_titles',\n",
    "'material_titles',\n",
    "'description',\n",
    "'category_titles',\n",
    "'artist_title',\n",
    "'id',\n",
    "'date_start',\n",
    "'date_end',\n",
    "'department_title',\n",
    "'image_id']\n"
   ]
  },
  {
   "cell_type": "code",
   "execution_count": 6,
   "metadata": {},
   "outputs": [],
   "source": [
    "chicago_collection_dir = Path(r\"D:\\artworks_search_engine\\data_retrieval\\artic-api-data\\json\\artworks\")\n",
    "artworks = {field: [] for field in important_fields}\n",
    "\n",
    "for f in os.listdir(chicago_collection_dir):\n",
    "    with open(Path(chicago_collection_dir, f)) as f:\n",
    "        artwork = json.load(f)\n",
    "        [artworks[field].append(artwork[field]) for field in important_fields]\n",
    "        "
   ]
  },
  {
   "cell_type": "code",
   "execution_count": 7,
   "metadata": {},
   "outputs": [],
   "source": [
    "from datasets import Dataset"
   ]
  },
  {
   "cell_type": "code",
   "execution_count": 8,
   "metadata": {},
   "outputs": [],
   "source": [
    "ds = Dataset.from_dict(artworks)"
   ]
  },
  {
   "cell_type": "code",
   "execution_count": 9,
   "metadata": {},
   "outputs": [
    {
     "data": {
      "text/plain": [
       "Dataset({\n",
       "    features: ['title', 'place_of_origin', 'medium_display', 'classification_titles', 'subject_titles', 'style_title', 'technique_titles', 'term_titles', 'material_titles', 'description', 'category_titles', 'artist_title', 'id', 'date_start', 'date_end', 'department_title', 'image_id'],\n",
       "    num_rows: 134078\n",
       "})"
      ]
     },
     "execution_count": 9,
     "metadata": {},
     "output_type": "execute_result"
    }
   ],
   "source": [
    "ds"
   ]
  },
  {
   "cell_type": "code",
   "execution_count": 72,
   "metadata": {},
   "outputs": [
    {
     "name": "stderr",
     "output_type": "stream",
     "text": [
      "Map: 100%|██████████| 134078/134078 [00:30<00:00, 4329.00 examples/s]\n"
     ]
    }
   ],
   "source": [
    "# list_ts = [\n",
    "#  'classification_titles',\n",
    "#  'subject_titles',\n",
    "#  'technique_titles',\n",
    "#  'material_titles',\n",
    "#  'category_titles',\n",
    "#  'term_titles']\n",
    "\n",
    "# ds = ds.map(lambda x: {f: \", \".join(x[f]) for f in list_ts})\n"
   ]
  },
  {
   "cell_type": "code",
   "execution_count": 10,
   "metadata": {},
   "outputs": [],
   "source": [
    "ds = ds.rename_columns({'classification_titles': 'classification',\n",
    "                   'subject_titles': 'subjects',\n",
    "                   'technique_titles': 'techniques',\n",
    "                   'material_titles': 'materials',\n",
    "                   'category_titles': 'categories',\n",
    "                   'term_titles': 'tags',\n",
    "                   'artist_title': 'artist',\n",
    "                   })"
   ]
  },
  {
   "cell_type": "code",
   "execution_count": 11,
   "metadata": {},
   "outputs": [],
   "source": [
    "N = len(ds)\n",
    "\n",
    "ds = ds.add_column(\"museum\", [\"The Art Institute of Chicago\"] * N)\n",
    "ds = ds.add_column(\"museum_region\", [\"Chicago, Illinois\"] * N)\n",
    "ds = ds.add_column(\"museum_country\", [\"USA\"] * N)\n"
   ]
  },
  {
   "cell_type": "code",
   "execution_count": 12,
   "metadata": {},
   "outputs": [
    {
     "name": "stderr",
     "output_type": "stream",
     "text": [
      "Map: 100%|██████████| 134078/134078 [00:36<00:00, 3656.81 examples/s]\n"
     ]
    }
   ],
   "source": [
    "ds = ds.map(lambda batch: {\"image_url\": [f\"https://www.artic.edu/iiif/2/{x}/full/843,/0/default.jpg\" for x in batch['image_id']]},\n",
    "            batched=True,\n",
    "            batch_size=1000)\n"
   ]
  },
  {
   "cell_type": "code",
   "execution_count": null,
   "metadata": {},
   "outputs": [],
   "source": []
  },
  {
   "cell_type": "code",
   "execution_count": 1,
   "metadata": {},
   "outputs": [
    {
     "name": "stderr",
     "output_type": "stream",
     "text": [
      "d:\\artworks_search_engine\\env\\Lib\\site-packages\\tqdm\\auto.py:21: TqdmWarning: IProgress not found. Please update jupyter and ipywidgets. See https://ipywidgets.readthedocs.io/en/stable/user_install.html\n",
      "  from .autonotebook import tqdm as notebook_tqdm\n"
     ]
    }
   ],
   "source": [
    "from datasets import load_from_disk\n"
   ]
  },
  {
   "cell_type": "code",
   "execution_count": 2,
   "metadata": {},
   "outputs": [],
   "source": [
    "chicago_ds = load_from_disk(\"chicago_ds\")\n"
   ]
  },
  {
   "cell_type": "code",
   "execution_count": 6,
   "metadata": {},
   "outputs": [],
   "source": [
    "N = len(chicago_ds)\n",
    "\n",
    "chicago_ds = chicago_ds.add_column(\"museum\", [\"The Art Institute of Chicago\"] * N)\n",
    "chicago_ds = chicago_ds.add_column(\"museum_region\", [\"Chicago\"] * N)\n",
    "chicago_ds = chicago_ds.add_column(\"museum_country\", [\"USA\"] * N)\n"
   ]
  },
  {
   "cell_type": "code",
   "execution_count": 15,
   "metadata": {},
   "outputs": [
    {
     "data": {
      "text/plain": [
       "{'title': 'Simon Vouet',\n",
       " 'place_of_origin': 'Flanders',\n",
       " 'medium_display': 'Engraving in black on cream laid paper',\n",
       " 'classification': ['engraving', 'print', 'prints and drawing'],\n",
       " 'subjects': [],\n",
       " 'style_title': None,\n",
       " 'techniques': [],\n",
       " 'tags': ['engraving', 'paper (fiber product)', 'print', 'prints and drawing'],\n",
       " 'materials': ['paper (fiber product)'],\n",
       " 'description': None,\n",
       " 'categories': ['Prints and Drawings'],\n",
       " 'artist': 'Robert van Voerst',\n",
       " 'id': 100,\n",
       " 'date_start': 1630,\n",
       " 'date_end': 1636,\n",
       " 'department_title': 'Prints and Drawings',\n",
       " 'image_id': '03c0fd45-3690-5fae-8023-4a3c16d3bfad',\n",
       " 'museum': 'The Art Institute of Chicago',\n",
       " 'museum_region': 'Chicago, Illinois',\n",
       " 'museum_country': 'USA',\n",
       " 'image_url': 'https://www.artic.edu/iiif/2/03c0fd45-3690-5fae-8023-4a3c16d3bfad/full/843,/0/default.jpg'}"
      ]
     },
     "execution_count": 15,
     "metadata": {},
     "output_type": "execute_result"
    }
   ],
   "source": [
    "ds[0]"
   ]
  },
  {
   "cell_type": "code",
   "execution_count": 3,
   "metadata": {},
   "outputs": [],
   "source": [
    "full_info_fields = [\n",
    " 'title',\n",
    " 'classification',\n",
    " 'subjects',\n",
    " 'techniques',\n",
    " 'materials',\n",
    " 'description',\n",
    " 'categories',\n",
    " 'artist',\n",
    " 'date_start',\n",
    " 'date_end'\n",
    "]"
   ]
  },
  {
   "cell_type": "code",
   "execution_count": 16,
   "metadata": {},
   "outputs": [
    {
     "name": "stderr",
     "output_type": "stream",
     "text": [
      "Map: 100%|██████████| 134078/134078 [00:00<00:00, 234776.89 examples/s]\n"
     ]
    }
   ],
   "source": [
    "ds = ds.map(lambda batch: {\"url\": [f\"https://www.artic.edu/artworks/{x}\" for x in batch[\"id\"]]},\n",
    "                            batched = True,\n",
    "                            batch_size=1000)"
   ]
  },
  {
   "cell_type": "code",
   "execution_count": 17,
   "metadata": {},
   "outputs": [
    {
     "name": "stderr",
     "output_type": "stream",
     "text": [
      "Saving the dataset (1/1 shards): 100%|██████████| 134078/134078 [00:00<00:00, 304137.65 examples/s]\n"
     ]
    }
   ],
   "source": [
    "ds.save_to_disk(\"./chicago_ds\")\n"
   ]
  },
  {
   "attachments": {},
   "cell_type": "markdown",
   "metadata": {},
   "source": [
    "# Redundant code (very specific) start"
   ]
  },
  {
   "cell_type": "code",
   "execution_count": 7,
   "metadata": {},
   "outputs": [
    {
     "name": "stderr",
     "output_type": "stream",
     "text": [
      "Map: 100%|██████████| 134078/134078 [00:40<00:00, 3283.28 examples/s]\n"
     ]
    }
   ],
   "source": [
    " \n",
    "def safe_string(x):\n",
    "    return '' if x is None else x\n",
    "\n",
    "chicago_ds = chicago_ds.map(lambda x: {\"full_info\": \". \".join([f\"{f}: {safe_string(x[f])}\"\n",
    "                                                for f in full_info_fields]) + f\". museum: The Art Institute of Chicago, location: Chicago, USA\"})\n"
   ]
  },
  {
   "cell_type": "code",
   "execution_count": null,
   "metadata": {},
   "outputs": [],
   "source": [
    " \n",
    "def safe_string(x):\n",
    "    return '' if x is None else x\n",
    "\n",
    "ds = ds.map(lambda x: {\"full_info\": \". \".join([f\"{f}: {safe_string(x[f])}\" \n",
    "                                                for f in full_info_fields]) + f\". museum: The Art Institute of Chicago, location: Chicago, USA\"})\n"
   ]
  },
  {
   "cell_type": "code",
   "execution_count": null,
   "metadata": {},
   "outputs": [],
   "source": [
    "ds = ds.map(lambda batch: {\"url\": [f\"https://www.artic.edu/artworks/{x}\" for x in batch[\"id\"]]},\n",
    "                            batched = True,\n",
    "                            batch_size=1000,\n",
    "                            num_proc=num_proc)\n"
   ]
  },
  {
   "cell_type": "code",
   "execution_count": 11,
   "metadata": {},
   "outputs": [
    {
     "name": "stderr",
     "output_type": "stream",
     "text": [
      "Saving the dataset (1/1 shards): 100%|██████████| 134078/134078 [00:00<00:00, 402859.09 examples/s]\n"
     ]
    }
   ],
   "source": [
    "ds.save_to_disk(\"./chicago_ds0\")\n"
   ]
  },
  {
   "cell_type": "code",
   "execution_count": 10,
   "metadata": {},
   "outputs": [
    {
     "ename": "NameError",
     "evalue": "name 'ds' is not defined",
     "output_type": "error",
     "traceback": [
      "\u001b[31m---------------------------------------------------------------------------\u001b[39m",
      "\u001b[31mNameError\u001b[39m                                 Traceback (most recent call last)",
      "\u001b[36mCell\u001b[39m\u001b[36m \u001b[39m\u001b[32mIn[10]\u001b[39m\u001b[32m, line 1\u001b[39m\n\u001b[32m----> \u001b[39m\u001b[32m1\u001b[39m \u001b[43mds\u001b[49m.save_to_disk(\u001b[33m\"\u001b[39m\u001b[33m./chicago_ds0\u001b[39m\u001b[33m\"\u001b[39m)\n",
      "\u001b[31mNameError\u001b[39m: name 'ds' is not defined"
     ]
    }
   ],
   "source": [
    "ds.save_to_disk(\"./chicago_ds\")\n"
   ]
  },
  {
   "attachments": {},
   "cell_type": "markdown",
   "metadata": {},
   "source": [
    "# Redundant code (very specific) end"
   ]
  },
  {
   "cell_type": "code",
   "execution_count": null,
   "metadata": {},
   "outputs": [],
   "source": []
  }
 ],
 "metadata": {
  "kernelspec": {
   "display_name": "env",
   "language": "python",
   "name": "python3"
  },
  "language_info": {
   "codemirror_mode": {
    "name": "ipython",
    "version": 3
   },
   "file_extension": ".py",
   "mimetype": "text/x-python",
   "name": "python",
   "nbconvert_exporter": "python",
   "pygments_lexer": "ipython3",
   "version": "3.12.4"
  },
  "orig_nbformat": 4
 },
 "nbformat": 4,
 "nbformat_minor": 2
}
