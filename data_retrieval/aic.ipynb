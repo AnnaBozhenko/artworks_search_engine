{
 "cells": [
  {
   "attachments": {},
   "cell_type": "markdown",
   "metadata": {},
   "source": [
    "# Art Institute of Chicago web scraper"
   ]
  },
  {
   "cell_type": "code",
   "execution_count": null,
   "metadata": {},
   "outputs": [],
   "source": [
    "# Terms of use\n",
    "\n",
    "# include AIC-User-Agent header:\n",
    "headers = {\"AIC-User-Agent\": \"artworks-semantic-search-application (annabozhenko2003@gmail.com)\"}"
   ]
  },
  {
   "cell_type": "code",
   "execution_count": 5,
   "metadata": {},
   "outputs": [
    {
     "name": "stderr",
     "output_type": "stream",
     "text": [
      "d:\\artworks_search_engine\\env\\Lib\\site-packages\\tqdm\\auto.py:21: TqdmWarning: IProgress not found. Please update jupyter and ipywidgets. See https://ipywidgets.readthedocs.io/en/stable/user_install.html\n",
      "  from .autonotebook import tqdm as notebook_tqdm\n"
     ]
    }
   ],
   "source": [
    "from pathlib import Path \n",
    "import os\n",
    "\n",
    "import json\n",
    "\n",
    "from datasets import load_dataset"
   ]
  },
  {
   "attachments": {},
   "cell_type": "markdown",
   "metadata": {},
   "source": [
    "# Explore artpiece json structure"
   ]
  },
  {
   "cell_type": "code",
   "execution_count": 6,
   "metadata": {},
   "outputs": [],
   "source": [
    "chicago_collection_dir = Path(r\"D:\\artworks_search_engine\\data_retrieval\\artic-api-data\\json\\artworks\")\n"
   ]
  },
  {
   "cell_type": "code",
   "execution_count": null,
   "metadata": {},
   "outputs": [],
   "source": [
    "# which entities are in the chicago  aside \n",
    "# from Prints and drawings and paintings\n",
    "# \n",
    "# "
   ]
  },
  {
   "cell_type": "code",
   "execution_count": 30,
   "metadata": {},
   "outputs": [
    {
     "data": {
      "text/plain": [
       "{'id': 100,\n",
       " 'api_model': 'artworks',\n",
       " 'api_link': 'https://api.artic.edu/api/v1/artworks/100',\n",
       " 'is_boosted': False,\n",
       " 'title': 'Simon Vouet',\n",
       " 'alt_titles': None,\n",
       " 'thumbnail': {'lqip': 'data:image/gif;base64,R0lGODlhBAAFAPQAAE5KQlVRSVtXTmVhV3FsY3VwZoaAdIuFeaSekKagkrSun7WvoLiyosK7rMS+sMrDtNHIudPLutTMvAAAAAAAAAAAAAAAAAAAAAAAAAAAAAAAAAAAAAAAAAAAAAAAAAAAACH5BAAAAAAALAAAAAAEAAUAAAURYLQoUoMUTHIIg0EAQeM8UAgAOw==',\n",
       "  'width': 2215,\n",
       "  'height': 3000,\n",
       "  'alt_text': 'A work made of engraving in black on cream laid paper.'},\n",
       " 'main_reference_number': '1887.716',\n",
       " 'has_not_been_viewed_much': False,\n",
       " 'boost_rank': None,\n",
       " 'date_start': 1630,\n",
       " 'date_end': 1636,\n",
       " 'date_display': '1630/36',\n",
       " 'date_qualifier_title': '',\n",
       " 'date_qualifier_id': None,\n",
       " 'artist_display': 'Robert van Voerst (Flemish, 1597-1636/37)\\nafter Anthony van Dyck (Flemish, 1599-1641)',\n",
       " 'place_of_origin': 'Flanders',\n",
       " 'description': None,\n",
       " 'short_description': None,\n",
       " 'dimensions': 'Trimmed to platemark: 24.3 × 17.7 cm (9 5/8 × 7 in.)',\n",
       " 'dimensions_detail': [{'depth': None,\n",
       "   'width': 17,\n",
       "   'height': 24,\n",
       "   'diameter': None,\n",
       "   'clarification': 'Trimmed to platemark'}],\n",
       " 'medium_display': 'Engraving in black on cream laid paper',\n",
       " 'inscriptions': None,\n",
       " 'credit_line': 'Gift of John E. Irwin',\n",
       " 'catalogue_display': '<p>New Hollstein 100 V/VII</p><p>Mauquoy-Hendrickx 74 V/VII</p>',\n",
       " 'publication_history': None,\n",
       " 'exhibition_history': None,\n",
       " 'provenance_text': None,\n",
       " 'edition': None,\n",
       " 'publishing_verification_level': 'Web Basic',\n",
       " 'internal_department_id': 3,\n",
       " 'fiscal_year': None,\n",
       " 'fiscal_year_deaccession': None,\n",
       " 'is_public_domain': True,\n",
       " 'is_zoomable': True,\n",
       " 'max_zoom_window_size': -1,\n",
       " 'copyright_notice': None,\n",
       " 'has_multimedia_resources': False,\n",
       " 'has_educational_resources': False,\n",
       " 'has_advanced_imaging': False,\n",
       " 'colorfulness': 11.9713,\n",
       " 'color': {'h': 41,\n",
       "  'l': 58,\n",
       "  's': 9,\n",
       "  'percentage': 0.06782963853969956,\n",
       "  'population': 653},\n",
       " 'latitude': None,\n",
       " 'longitude': None,\n",
       " 'latlon': None,\n",
       " 'is_on_view': False,\n",
       " 'on_loan_display': None,\n",
       " 'gallery_title': None,\n",
       " 'gallery_id': None,\n",
       " 'nomisma_id': None,\n",
       " 'artwork_type_title': 'Print',\n",
       " 'artwork_type_id': 18,\n",
       " 'department_title': 'Prints and Drawings',\n",
       " 'department_id': 'PC-13',\n",
       " 'artist_id': 27558,\n",
       " 'artist_title': 'Robert van Voerst',\n",
       " 'alt_artist_ids': [],\n",
       " 'artist_ids': [27558],\n",
       " 'artist_titles': ['Robert van Voerst'],\n",
       " 'category_ids': ['PC-13'],\n",
       " 'category_titles': ['Prints and Drawings'],\n",
       " 'term_titles': ['engraving',\n",
       "  'paper (fiber product)',\n",
       "  'print',\n",
       "  'prints and drawing'],\n",
       " 'style_id': None,\n",
       " 'style_title': None,\n",
       " 'alt_style_ids': [],\n",
       " 'style_ids': [],\n",
       " 'style_titles': [],\n",
       " 'classification_id': 'TM-12',\n",
       " 'classification_title': 'engraving',\n",
       " 'alt_classification_ids': ['TM-17', 'TM-4'],\n",
       " 'classification_ids': ['TM-12', 'TM-17', 'TM-4'],\n",
       " 'classification_titles': ['engraving', 'print', 'prints and drawing'],\n",
       " 'subject_id': None,\n",
       " 'alt_subject_ids': [],\n",
       " 'subject_ids': [],\n",
       " 'subject_titles': [],\n",
       " 'material_id': 'TM-2982',\n",
       " 'alt_material_ids': [],\n",
       " 'material_ids': ['TM-2982'],\n",
       " 'material_titles': ['paper (fiber product)'],\n",
       " 'technique_id': None,\n",
       " 'alt_technique_ids': [],\n",
       " 'technique_ids': [],\n",
       " 'technique_titles': [],\n",
       " 'theme_titles': [],\n",
       " 'image_id': '03c0fd45-3690-5fae-8023-4a3c16d3bfad',\n",
       " 'alt_image_ids': [],\n",
       " 'document_ids': [],\n",
       " 'sound_ids': [],\n",
       " 'video_ids': [],\n",
       " 'text_ids': [],\n",
       " 'section_ids': [],\n",
       " 'section_titles': [],\n",
       " 'site_ids': [],\n",
       " 'suggest_autocomplete_all': [{'input': ['1887.716'],\n",
       "   'contexts': {'groupings': ['accession']}},\n",
       "  {'input': ['Simon Vouet'],\n",
       "   'weight': 252641,\n",
       "   'contexts': {'groupings': ['title']}}],\n",
       " 'source_updated_at': '2022-09-21T19:18:44-05:00',\n",
       " 'updated_at': '2024-12-13T01:23:39-06:00',\n",
       " 'timestamp': '2025-02-16T00:22:02-06:00'}"
      ]
     },
     "execution_count": 30,
     "metadata": {},
     "output_type": "execute_result"
    }
   ],
   "source": [
    "b"
   ]
  },
  {
   "cell_type": "code",
   "execution_count": 69,
   "metadata": {},
   "outputs": [],
   "source": [
    "important_fields = [\n",
    "'title',\n",
    "'classification_titles',\n",
    "'subject_titles',\n",
    "'technique_titles',\n",
    "'material_titles',\n",
    "'description',\n",
    "'category_titles',\n",
    "'artist_title',\n",
    "'id',\n",
    "'date_start',\n",
    "'date_end',\n",
    "'department_title',\n",
    "'image_id']\n"
   ]
  },
  {
   "cell_type": "code",
   "execution_count": 70,
   "metadata": {},
   "outputs": [],
   "source": [
    "chicago_collection_dir = Path(r\"D:\\artworks_search_engine\\data_retrieval\\artic-api-data\\json\\artworks\")\n",
    "artworks = {field: [] for field in important_fields}\n",
    "\n",
    "for f in os.listdir(chicago_collection_dir):\n",
    "    with open(Path(chicago_collection_dir, f)) as f:\n",
    "        artwork = json.load(f)\n",
    "        [artworks[field].append(artwork[field]) for field in important_fields]\n",
    "        "
   ]
  },
  {
   "cell_type": "code",
   "execution_count": 14,
   "metadata": {},
   "outputs": [],
   "source": [
    "from datasets import Dataset"
   ]
  },
  {
   "cell_type": "code",
   "execution_count": 71,
   "metadata": {},
   "outputs": [],
   "source": [
    "ds = Dataset.from_dict(artworks)"
   ]
  },
  {
   "cell_type": "code",
   "execution_count": 72,
   "metadata": {},
   "outputs": [
    {
     "name": "stderr",
     "output_type": "stream",
     "text": [
      "Map: 100%|██████████| 134078/134078 [00:30<00:00, 4329.00 examples/s]\n"
     ]
    }
   ],
   "source": [
    "list_ts = ['classification_titles',\n",
    " 'subject_titles',\n",
    " 'technique_titles',\n",
    " 'material_titles',\n",
    " 'category_titles']\n",
    "\n",
    "ds = ds.map(lambda x: {f: \", \".join(x[f]) for f in list_ts})\n"
   ]
  },
  {
   "cell_type": "code",
   "execution_count": 73,
   "metadata": {},
   "outputs": [],
   "source": [
    "ds = ds.rename_columns({'classification_titles': 'classification',\n",
    "                   'subject_titles': 'subjects',\n",
    "                   'technique_titles': 'techniques',\n",
    "                   'material_titles': 'materials',\n",
    "                   'category_titles': 'categories',\n",
    "                   'artist_title': 'artist',\n",
    "                   })"
   ]
  },
  {
   "cell_type": "code",
   "execution_count": 74,
   "metadata": {},
   "outputs": [],
   "source": [
    "full_info_fields = [\n",
    "    'title',\n",
    "    'classification',\n",
    " 'subjects',\n",
    " 'techniques',\n",
    " 'materials',\n",
    " 'description',\n",
    " 'categories',\n",
    " 'artist',\n",
    " 'date_start',\n",
    " 'date_end'\n",
    "]"
   ]
  },
  {
   "cell_type": "code",
   "execution_count": 75,
   "metadata": {},
   "outputs": [
    {
     "name": "stderr",
     "output_type": "stream",
     "text": [
      "Map: 100%|██████████| 134078/134078 [00:35<00:00, 3796.41 examples/s]\n"
     ]
    }
   ],
   "source": [
    "\n",
    "def safe_string(x):\n",
    "    return '' if x is None else x\n",
    "\n",
    "ds = ds.map(lambda x: {\"full_info\": \". \".join([f\"{f}: {safe_string(x[f])}\" \n",
    "                                                for f in full_info_fields])})\n"
   ]
  },
  {
   "cell_type": "code",
   "execution_count": 76,
   "metadata": {},
   "outputs": [
    {
     "name": "stderr",
     "output_type": "stream",
     "text": [
      "Map: 100%|██████████| 134078/134078 [00:36<00:00, 3690.63 examples/s]\n"
     ]
    }
   ],
   "source": [
    "ds = ds.map(lambda x: {\"image_url\": f\"https://www.artic.edu/iiif/2/{x['image_id']}/full/843,/0/default.jpg\"})"
   ]
  },
  {
   "cell_type": "code",
   "execution_count": 78,
   "metadata": {},
   "outputs": [
    {
     "name": "stderr",
     "output_type": "stream",
     "text": [
      "Saving the dataset (1/1 shards): 100%|██████████| 134078/134078 [00:00<00:00, 464933.00 examples/s]\n"
     ]
    }
   ],
   "source": [
    "ds.save_to_disk(\"./chicago_ds\")"
   ]
  },
  {
   "cell_type": "code",
   "execution_count": null,
   "metadata": {},
   "outputs": [],
   "source": []
  }
 ],
 "metadata": {
  "kernelspec": {
   "display_name": "env",
   "language": "python",
   "name": "python3"
  },
  "language_info": {
   "codemirror_mode": {
    "name": "ipython",
    "version": 3
   },
   "file_extension": ".py",
   "mimetype": "text/x-python",
   "name": "python",
   "nbconvert_exporter": "python",
   "pygments_lexer": "ipython3",
   "version": "3.12.4"
  },
  "orig_nbformat": 4
 },
 "nbformat": 4,
 "nbformat_minor": 2
}
