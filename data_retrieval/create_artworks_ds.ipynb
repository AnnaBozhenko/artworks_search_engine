{
 "cells": [
  {
   "cell_type": "code",
   "execution_count": null,
   "metadata": {},
   "outputs": [],
   "source": [
    "from datasets import load_from_disk, concatenate_datasets\n",
    "from datasets import Sequence, Features, Value\n",
    "from huggingface_hub import notebook_login\n",
    "\n",
    "import re"
   ]
  },
  {
   "cell_type": "code",
   "execution_count": null,
   "metadata": {},
   "outputs": [],
   "source": [
    "louvre_ds = load_from_disk(\"/content/drive/MyDrive/artistic_styles/paintings/louvre_ds_22_13\")\n",
    "chicago_ds = load_from_disk(\"/content/drive/MyDrive/artistic_styles/paintings/chicago_ds\")\n"
   ]
  },
  {
   "attachments": {},
   "cell_type": "markdown",
   "metadata": {},
   "source": [
    "### Clean Louvre's dataset"
   ]
  },
  {
   "cell_type": "code",
   "execution_count": null,
   "metadata": {},
   "outputs": [],
   "source": [
    "louvre_ds = louvre_ds.rename_columns({\"image\": \"image_url\",\n",
    "                                      \"arkId\": \"id\"})\n"
   ]
  },
  {
   "cell_type": "code",
   "execution_count": null,
   "metadata": {},
   "outputs": [],
   "source": [
    "N = len(louvre_ds)\n",
    "louvre_ds = louvre_ds.add_column(\"museum\", [\"Musée du Louvre\"] * N)\n",
    "louvre_ds = louvre_ds.add_column(\"museum_region\", [\"Paris\"] * N)\n",
    "louvre_ds = louvre_ds.add_column(\"museum_country\", [\"France\"] * N)\n",
    "\n"
   ]
  },
  {
   "cell_type": "code",
   "execution_count": null,
   "metadata": {},
   "outputs": [],
   "source": [
    "louvre_ds = louvre_ds.map(lambda batch: {\"years of creation\": [f\"{y_s}-{y_e}\" for y_s, y_e in zip(batch['date_start'], batch['date_end'])]},\n",
    "                          batched=True,\n",
    "                          batch_size=1000)\n"
   ]
  },
  {
   "cell_type": "code",
   "execution_count": null,
   "metadata": {},
   "outputs": [],
   "source": [
    "louvre_ds = louvre_ds.remove_columns([\"title\", \"attribution\", \"index\", \"inscriptions\", \"description\", \"materialsAndTechniques\"])"
   ]
  },
  {
   "cell_type": "code",
   "execution_count": null,
   "metadata": {},
   "outputs": [],
   "source": [
    "renamings = {f\"translated_{x}\": x for x in [\"title\", \"attribution\", \"index\", \"inscriptions\", \"description\", \"materialsAndTechniques\"]}"
   ]
  },
  {
   "cell_type": "code",
   "execution_count": null,
   "metadata": {},
   "outputs": [],
   "source": [
    "louvre_ds = louvre_ds.rename_columns(renamings)"
   ]
  },
  {
   "cell_type": "code",
   "execution_count": null,
   "metadata": {},
   "outputs": [],
   "source": [
    "def form_fullinfo(batch, fields, connecting_char):\n",
    "  batch_infos = []\n",
    "  for i in range(len(batch[fields[0]])):\n",
    "    info = connecting_char.join([f\"{field}: {batch[field][i]}\" for field in fields if len(batch[field][i]) > 0]) + f\". museum: Musée du Louvre. location: Paris, France\"\n",
    "    batch_infos.append(info)\n",
    "  return batch_infos\n"
   ]
  },
  {
   "cell_type": "code",
   "execution_count": null,
   "metadata": {},
   "outputs": [],
   "source": [
    "fields = ['title', 'artist', 'attribution', 'years of creation', 'description', 'index', 'inscriptions']\n",
    "\n",
    "louvre_ds = louvre_ds.map(lambda x: {\n",
    "    \"full_info\": \". \".join([f\"{field}: {x[field]}\" for field in fields if len(x[field]) > 0])\n",
    "    }\n",
    ")\n"
   ]
  },
  {
   "cell_type": "code",
   "execution_count": null,
   "metadata": {},
   "outputs": [],
   "source": [
    "museum_ids = { \"louvre\": 0, \"AIC\": 1}"
   ]
  },
  {
   "cell_type": "code",
   "execution_count": null,
   "metadata": {},
   "outputs": [],
   "source": [
    "# Set id for Louvre museum: `1`\n",
    "louvre_ds = louvre_ds.map(lambda batch: {\"museum_id\": [museum_ids[\"louvre\"] for _ in range(len(batch[\"id\"]))]},\n",
    "                              batched=True,\n",
    "                              batch_size=1000)"
   ]
  },
  {
   "attachments": {},
   "cell_type": "markdown",
   "metadata": {},
   "source": [
    "### Clean AIC's dataset"
   ]
  },
  {
   "cell_type": "code",
   "execution_count": null,
   "metadata": {},
   "outputs": [],
   "source": [
    "fields_to_concat = [field_name for field_name, t in chicago_ds.features.items() if isinstance(t, Sequence)]"
   ]
  },
  {
   "cell_type": "code",
   "execution_count": null,
   "metadata": {},
   "outputs": [],
   "source": [
    "concat_char = \", \"\n",
    "chicago_ds = chicago_ds.map(\n",
    "    lambda b: {f: [concat_char.join(x) for x in b[f]] for f in fields_to_concat},\n",
    "    batched=True,\n",
    "    batch_size=1000\n",
    ")\n"
   ]
  },
  {
   "cell_type": "code",
   "execution_count": null,
   "metadata": {},
   "outputs": [],
   "source": [
    "chicago_ds = chicago_ds.cast(Features({feature_name: Value(\"string\") for feature_name in chicago_ds.features}))\n"
   ]
  },
  {
   "cell_type": "code",
   "execution_count": null,
   "metadata": {},
   "outputs": [],
   "source": [
    "int_fields = ['id', 'date_start', 'date_end']\n",
    "chicago_ds = chicago_ds.map(\n",
    "    lambda b: {f: [str(x) for x in b[f]] for f in int_fields},\n",
    "    batched=True,\n",
    "    batch_size=1000\n",
    ")\n"
   ]
  },
  {
   "cell_type": "code",
   "execution_count": null,
   "metadata": {},
   "outputs": [],
   "source": [
    "chicago_ds = chicago_ds.map(\n",
    "    lambda batch: {\"years of creation\": [f\"{y_s}-{y_e}\" for y_s, y_e in zip(batch['date_start'], batch['date_end'])]},\n",
    "                          batched=True,\n",
    "                          batch_size=1000\n",
    ")"
   ]
  },
  {
   "cell_type": "code",
   "execution_count": null,
   "metadata": {},
   "outputs": [],
   "source": [
    "df = chicago_ds.with_format(\"pandas\")[:]\n",
    "none_fields = df.isna().sum()\n",
    "none_fields = none_fields[none_fields > 0].index\n"
   ]
  },
  {
   "cell_type": "code",
   "execution_count": null,
   "metadata": {},
   "outputs": [],
   "source": [
    "chicago_ds = chicago_ds.map(lambda b: {f: [x if x is not None else ''\n",
    "                                            for x in b[f]]\n",
    "                                       for f in none_fields},\n",
    "                            batched=True,\n",
    "                            batch_size=1000)\n"
   ]
  },
  {
   "cell_type": "code",
   "execution_count": null,
   "metadata": {},
   "outputs": [],
   "source": [
    "def remove_html_tags(text):\n",
    "  return re.sub(\"<[^>]*>\", \"\", text)\n",
    "\n",
    "chicago_ds = chicago_ds.map(\n",
    "    lambda batch: {\"description\": [remove_html_tags(x) for x in batch[\"description\"]]},\n",
    "    batched=True,\n",
    "    batch_size=1000,\n",
    "    num_proc=1\n",
    ")\n"
   ]
  },
  {
   "cell_type": "code",
   "execution_count": null,
   "metadata": {},
   "outputs": [],
   "source": [
    "# form `full_info`\n",
    "full_info_fields = ['title', 'artist', 'years of creation', 'tags', 'style_title', 'subjects', 'classification', 'techniques', 'materials', 'description', 'categories', 'place_of_origin']\n",
    "concat_char = \". \"\n",
    "\n",
    "chicago_ds = chicago_ds.map(\n",
    "    lambda x: {\"full_info\": concat_char.join([f\"{' '.join(f.split('_'))}: {x[f]}\"\n",
    "                                                for f in full_info_fields\n",
    "                                              if len(x[f]) > 0]) + f\". museum: The Art Institute of Chicago, location: Chicago, USA\"}\n",
    "    )\n"
   ]
  },
  {
   "cell_type": "code",
   "execution_count": null,
   "metadata": {},
   "outputs": [],
   "source": [
    "# identify museum\n",
    "chicago_ds = chicago_ds.map(lambda batch: {\"museum_id\": [museum_ids[\"AIC\"] for _ in range(len(batch[\"id\"]))]},\n",
    "                              batched=True,\n",
    "                              batch_size=1000)\n"
   ]
  },
  {
   "cell_type": "code",
   "execution_count": null,
   "metadata": {},
   "outputs": [],
   "source": [
    "artworks = concatenate_datasets(\n",
    "    [louvre_ds.select_columns(['id', 'url', 'image_url', 'title', 'artist', 'date_start', 'date_end', 'full_info', 'museum', 'museum_region', 'museum_country', 'museum_id']),\n",
    "     chicago_ds.select_columns(['id', 'url', 'image_url', 'title', 'artist', 'date_start', 'date_end', 'full_info', 'museum', 'museum_region', 'museum_country', 'museum_id'])]\n",
    ")\n"
   ]
  },
  {
   "cell_type": "code",
   "execution_count": null,
   "metadata": {},
   "outputs": [],
   "source": [
    "artworks.save_to_disk(\"/content/drive/MyDrive/artistic_styles/paintings/artworks_ds\")"
   ]
  },
  {
   "cell_type": "code",
   "execution_count": null,
   "metadata": {},
   "outputs": [],
   "source": [
    "# !git config --global user.email \"ms.anna.bozhenko.03@gmail.com\"\n",
    "# !git config --global user.name \"Anna Bozhenko\"\n",
    "\n",
    "notebook_login()\n",
    "artworks.push_to_hub(\"anna-bozhenko/artworks\", commit_message=\"Created dataset of shallow discriptions from online collections of the Louvre Museum and The Art Institute of Chicago.\")"
   ]
  }
 ],
 "metadata": {
  "kernelspec": {
   "display_name": "env",
   "language": "python",
   "name": "python3"
  },
  "language_info": {
   "name": "python",
   "version": "3.12.4"
  },
  "orig_nbformat": 4
 },
 "nbformat": 4,
 "nbformat_minor": 2
}
