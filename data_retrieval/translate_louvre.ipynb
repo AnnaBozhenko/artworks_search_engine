{
 "cells": [
  {
   "cell_type": "code",
   "execution_count": null,
   "metadata": {},
   "outputs": [],
   "source": [
    "from datasets import load_from_disk\n",
    "from transformers import MarianMTModel, MarianTokenizer\n",
    "\n"
   ]
  },
  {
   "cell_type": "code",
   "execution_count": null,
   "metadata": {},
   "outputs": [],
   "source": [
    "louvre_ds = load_from_disk(\"/content/drive/MyDrive/artistic_styles/paintings/louvre_ds_22_13\")"
   ]
  },
  {
   "cell_type": "code",
   "execution_count": null,
   "metadata": {},
   "outputs": [],
   "source": [
    "src=\"fr\"\n",
    "dest=\"en\"\n",
    "model_name = f\"Helsinki-NLP/opus-mt-{src}-{dest}\" # source: fr (only)\n",
    "tokenizer = MarianTokenizer.from_pretrained(model_name)\n",
    "translator = MarianMTModel.from_pretrained(model_name).cuda()"
   ]
  },
  {
   "cell_type": "code",
   "execution_count": null,
   "metadata": {},
   "outputs": [],
   "source": [
    "dummy_str = \"i\" # character either for empty strings or too long once tokenized into tokens and fed into module input (> max_length)"
   ]
  },
  {
   "cell_type": "code",
   "execution_count": null,
   "metadata": {},
   "outputs": [],
   "source": [
    "def translate(data, device=\"cuda\"):\n",
    "  batch = tokenizer(data, return_tensors=\"pt\", padding=True, )\n",
    "  tokenized_batch = {k: v.to(device) for k, v in batch.items()}\n",
    "  gen = translator.generate(**tokenized_batch)\n",
    "  tran = tokenizer.batch_decode(gen, skip_special_tokens=True)\n",
    "  return tran\n"
   ]
  },
  {
   "attachments": {},
   "cell_type": "markdown",
   "metadata": {},
   "source": [
    "# Translate materialsAndTechniques\n",
    "\n"
   ]
  },
  {
   "cell_type": "code",
   "execution_count": null,
   "metadata": {},
   "outputs": [],
   "source": [
    "outlier_idxs = [13438] # indices of too long strings (couldn't yet solve the problem with translating too long texts. to be honest  could, there was a solution but time costly)"
   ]
  },
  {
   "cell_type": "code",
   "execution_count": null,
   "metadata": {},
   "outputs": [],
   "source": [
    "louvre_ds = louvre_ds.map(lambda x, i: {\"materialsAndTechniques_copy\": x[\"materialsAndTechniques\"] if i not in outlier_idxs else dummy_str},\n",
    "                          with_indices=True)"
   ]
  },
  {
   "cell_type": "code",
   "execution_count": null,
   "metadata": {},
   "outputs": [],
   "source": [
    "louvre_ds = louvre_ds.map(lambda batch: {\n",
    "    \"translated_materialsAndTechniques\": translate(batch['materialsAndTechniques_copy'], \"cuda\")\n",
    "    },\n",
    "                          batched=True,\n",
    "                          batch_size=10\n",
    ")\n"
   ]
  },
  {
   "cell_type": "code",
   "execution_count": null,
   "metadata": {},
   "outputs": [],
   "source": [
    "louvre_ds = louvre_ds.map(lambda x, i: {\n",
    "    \"translated_materialsAndTechniques\": x[\"translated_materialsAndTechniques\"] if i not in outlier_idxs else \"\"\n",
    "},\n",
    "    with_indices=True\n",
    ")\n"
   ]
  },
  {
   "cell_type": "code",
   "execution_count": null,
   "metadata": {},
   "outputs": [],
   "source": [
    "# translated_materialsAndTechniques for empty fields\n",
    "outliers_idxs = [i for i, x in enumerate(louvre_ds['materialsAndTechniques'][:]) if len(x) == 0]\n",
    "\n",
    "louvre_ds = louvre_ds.map(lambda x, i: {\"translated_materialsAndTechniques\": x[\"translated_materialsAndTechniques\"] if i not in outliers_idxs else \"\"},\n",
    "                          with_indices=True)"
   ]
  },
  {
   "attachments": {},
   "cell_type": "markdown",
   "metadata": {},
   "source": [
    "# Translate `description`"
   ]
  },
  {
   "cell_type": "code",
   "execution_count": 1,
   "metadata": {},
   "outputs": [],
   "source": [
    "outlier_idxs = [1690, 1774, 3798, 4241, 4866, 4867, 4868, 4869, 4870, 4871, 4872, 4878, 4879, 4881, 4882, 4883, 4884, 4885, 4886, 4887, 4888, 4900, 6632, 6831, 8095, 8096, 8159, 8250, 8315, 8450, 8456, 8459, 8495, 8496, 8597, 9174, 9305, 9678, 10418, 10752, 10766, 10787, 10788, 10798, 10832, 15053, 15054, 15055, 15773]\n"
   ]
  },
  {
   "cell_type": "code",
   "execution_count": null,
   "metadata": {},
   "outputs": [],
   "source": [
    "louvre_ds = louvre_ds.map(lambda x, i: {\"description_copy\": x[\"description\"] if i not in outlier_idxs else dummy_str},\n",
    "                          with_indices=True)"
   ]
  },
  {
   "cell_type": "code",
   "execution_count": null,
   "metadata": {},
   "outputs": [],
   "source": [
    "louvre_ds = louvre_ds.map(lambda batch: {\n",
    "    \"translated_description\": translate(batch['description_copy'], \"cuda\")\n",
    "    },\n",
    "                          batched=True,\n",
    "                          batch_size=10\n",
    ")\n"
   ]
  },
  {
   "cell_type": "code",
   "execution_count": null,
   "metadata": {},
   "outputs": [],
   "source": [
    "louvre_ds = louvre_ds.map(lambda x, i: {\n",
    "    \"translated_description\": x[\"translated_description\"] if i not in outlier_idxs else \"\"\n",
    "},\n",
    "    with_indices=True\n",
    ")"
   ]
  },
  {
   "cell_type": "code",
   "execution_count": null,
   "metadata": {},
   "outputs": [],
   "source": [
    "# description\n",
    "outliers_idxs = [i for i, x in enumerate(louvre_ds['description'][:]) if len(x) == 0]\n",
    "\n",
    "louvre_ds = louvre_ds.map(lambda x, i: {\"translated_description\": x[\"translated_description\"] if i not in outliers_idxs else \"\"},\n",
    "                          with_indices=True)"
   ]
  },
  {
   "attachments": {},
   "cell_type": "markdown",
   "metadata": {},
   "source": [
    "# Translate `inscriptions`"
   ]
  },
  {
   "cell_type": "code",
   "execution_count": null,
   "metadata": {},
   "outputs": [],
   "source": [
    "# There are indices with token vectors, exaggerating `max_size`=512:\n",
    "outlier_idxs = [7575]"
   ]
  },
  {
   "cell_type": "code",
   "execution_count": null,
   "metadata": {},
   "outputs": [],
   "source": [
    "louvre_ds = louvre_ds.map(lambda x, i: {\"inscriptions_copy\": x[\"inscriptions\"] if i not in outlier_idxs else dummy_str},\n",
    "                          with_indices=True)"
   ]
  },
  {
   "cell_type": "code",
   "execution_count": null,
   "metadata": {},
   "outputs": [],
   "source": [
    "louvre_ds = louvre_ds.map(lambda batch: {\n",
    "    \"translated_inscriptions\": translate(batch['inscriptions_copy'], \"cuda\")\n",
    "    },\n",
    "                          batched=True,\n",
    "                          batch_size=10\n",
    ")\n"
   ]
  },
  {
   "cell_type": "code",
   "execution_count": null,
   "metadata": {},
   "outputs": [],
   "source": [
    "louvre_ds = louvre_ds.map(lambda x, i: {\n",
    "    \"translated_inscriptions\": x[\"translated_inscriptions\"] if i not in outlier_idxs else \"\"\n",
    "},\n",
    "    with_indices=True\n",
    ")"
   ]
  },
  {
   "cell_type": "code",
   "execution_count": null,
   "metadata": {},
   "outputs": [],
   "source": [
    "# translated_inscriptions\n",
    "outliers_idxs = [i for i, x in enumerate(louvre_ds['inscriptions'][:]) if len(x) == 0]\n",
    "\n",
    "louvre_ds = louvre_ds.map(lambda x, i: {\"translated_inscriptions\": x[\"translated_inscriptions\"] if i not in outliers_idxs else \"\"},\n",
    "                          with_indices=True)"
   ]
  },
  {
   "attachments": {},
   "cell_type": "markdown",
   "metadata": {},
   "source": [
    "# Translate `title`"
   ]
  },
  {
   "cell_type": "code",
   "execution_count": null,
   "metadata": {},
   "outputs": [],
   "source": [
    "# there are `no-name` artworks\n",
    "ouliers_idxs = [i for i, x in enumerate(louvre_ds['title'][:]) if len(x) == 0]"
   ]
  },
  {
   "cell_type": "code",
   "execution_count": null,
   "metadata": {},
   "outputs": [],
   "source": [
    "louvre_ds = louvre_ds.map(lambda x, i: {\"title_copy\": x[\"title\"] if i not in outlier_idxs else dummy_str},\n",
    "                          with_indices=True)"
   ]
  },
  {
   "cell_type": "code",
   "execution_count": null,
   "metadata": {},
   "outputs": [],
   "source": [
    "louvre_ds = louvre_ds.map(lambda batch: {\n",
    "    \"translated_title\": translate(batch['title_copy'], \"cuda\")\n",
    "    },\n",
    "                          batched=True,\n",
    "                          batch_size=10\n",
    ")\n"
   ]
  },
  {
   "cell_type": "code",
   "execution_count": null,
   "metadata": {},
   "outputs": [],
   "source": [
    "louvre_ds = louvre_ds.map(lambda x, i: {\n",
    "    \"translated_title\": x[\"translated_title\"] if i not in ouliers_idxs else \"\"\n",
    "},\n",
    "    with_indices=True   )"
   ]
  },
  {
   "attachments": {},
   "cell_type": "markdown",
   "metadata": {},
   "source": [
    "# Translate `index`\n"
   ]
  },
  {
   "cell_type": "code",
   "execution_count": null,
   "metadata": {},
   "outputs": [],
   "source": [
    "louvre_ds = louvre_ds.map(lambda batch: {\n",
    "    \"translated_index\": translate(batch['index'], \"cuda\")\n",
    "    },\n",
    "                          batched=True,\n",
    "                          batch_size=10\n",
    ")\n"
   ]
  },
  {
   "cell_type": "code",
   "execution_count": null,
   "metadata": {},
   "outputs": [],
   "source": [
    "# translated_index\n",
    "outliers_idxs = [i for i, x in enumerate(louvre_ds['index'][:]) if len(x) == 0]\n",
    "\n",
    "louvre_ds = louvre_ds.map(lambda x, i: {\"translated_index\": x[\"translated_index\"] if i not in outliers_idxs else \"\"},\n",
    "                          with_indices=True)\n"
   ]
  },
  {
   "attachments": {},
   "cell_type": "markdown",
   "metadata": {},
   "source": [
    "# Translate `attribution`"
   ]
  },
  {
   "cell_type": "code",
   "execution_count": null,
   "metadata": {},
   "outputs": [],
   "source": [
    "louvre_ds = louvre_ds.map(lambda batch: {\n",
    "    \"translated_attribution\": translate(batch['attribution'], \"cuda\")\n",
    "    },\n",
    "                          batched=True,\n",
    "                          batch_size=10\n",
    ")\n"
   ]
  },
  {
   "cell_type": "code",
   "execution_count": null,
   "metadata": {},
   "outputs": [],
   "source": [
    "# translated_attribution\n",
    "outliers_idxs = [i for i, x in enumerate(louvre_ds['attribution'][:]) if len(x) == 0]\n",
    "\n",
    "louvre_ds = louvre_ds.map(lambda x, i: {\"translated_attribution\": x[\"translated_attribution\"] if i not in outliers_idxs else \"\"},\n",
    "                          with_indices=True)\n"
   ]
  },
  {
   "cell_type": "code",
   "execution_count": null,
   "metadata": {},
   "outputs": [],
   "source": [
    "louvre_ds = louvre_ds.remove_columns([\"materialsAndTechniques_copy\", \"description_copy\", \"inscriptions_copy\", \"title_copy\"])"
   ]
  },
  {
   "cell_type": "code",
   "execution_count": null,
   "metadata": {},
   "outputs": [],
   "source": [
    "louvre_ds.save_to_disk(\"/content/drive/MyDrive/artistic_styles/paintings/louvre_ds_22_13\")\n"
   ]
  },
  {
   "attachments": {},
   "cell_type": "markdown",
   "metadata": {},
   "source": []
  }
 ],
 "metadata": {
  "kernelspec": {
   "display_name": "env",
   "language": "python",
   "name": "python3"
  },
  "language_info": {
   "codemirror_mode": {
    "name": "ipython",
    "version": 3
   },
   "file_extension": ".py",
   "mimetype": "text/x-python",
   "name": "python",
   "nbconvert_exporter": "python",
   "pygments_lexer": "ipython3",
   "version": "3.12.4"
  },
  "orig_nbformat": 4
 },
 "nbformat": 4,
 "nbformat_minor": 2
}
