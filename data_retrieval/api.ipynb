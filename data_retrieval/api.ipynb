{
 "cells": [
  {
   "cell_type": "code",
   "execution_count": 1,
   "metadata": {},
   "outputs": [],
   "source": [
    "import requests\n",
    "import json"
   ]
  },
  {
   "cell_type": "code",
   "execution_count": 2,
   "metadata": {},
   "outputs": [],
   "source": [
    "def request(url, params):\n",
    "    data = None\n",
    "    try:\n",
    "        # Make the GET request\n",
    "        response = requests.get(url, params=params)\n",
    "\n",
    "        # Check if the request was successful\n",
    "        if response.status_code == 200:\n",
    "            # Parse the JSON response\n",
    "            data = response.json()\n",
    "        else:\n",
    "            print(f\"Error: {response.status_code} - {response.text}\")\n",
    "    except requests.exceptions.RequestException as e:\n",
    "        print(f\"Request failed: {e}\")\n",
    "    return data\n"
   ]
  },
  {
   "cell_type": "code",
   "execution_count": null,
   "metadata": {},
   "outputs": [],
   "source": [
    "# https://<domain>/api/explore/v2.1/<resource>\n",
    "BASE_URL = \"https://data.culture.gouv.fr/api/explore/v2.1/catalog/datasets/base-joconde-extrait/records\"\n",
    "\n",
    "# Call to specicific museum\n",
    "params = {\n",
    "\n",
    "}\n",
    "\n",
    "response = request(BASE_URL, params)\n",
    "\n",
    "print(json.dumps(response, indent=4))\n"
   ]
  },
  {
   "cell_type": "code",
   "execution_count": null,
   "metadata": {},
   "outputs": [],
   "source": [
    "# TO DO\n",
    "# which fields are useful\n"
   ]
  },
  {
   "cell_type": "code",
   "execution_count": null,
   "metadata": {},
   "outputs": [],
   "source": [
    "#  play around extractions\n",
    "# how many records are in specific museum:\n",
    "field0 = \"nom_officiel_musee\"\n",
    "value0 = \"musée du Louvre\"\n",
    "BASE_URL = \"https://data.culture.gouv.fr/api/explore/v2.1/catalog/datasets/base-joconde-extrait/records\"\n",
    "\n",
    "# Call to specicific museum\n",
    "params = {\n",
    "    \"where\": f\"search({field0},\\\"{value0}\\\")\"\n",
    "}\n",
    "\n",
    "response = request(BASE_URL, params)\n",
    "\n",
    "print(json.dumps(response, indent=4))"
   ]
  },
  {
   "cell_type": "code",
   "execution_count": null,
   "metadata": {},
   "outputs": [],
   "source": [
    "url = \"https://data.culture.gouv.fr/api/explore/v2.1/catalog/datasets/base-joconde-extrait/records\"\n",
    "field = \"nom_officiel_musee\"\n",
    "params = {\n",
    "    \"select\": field,\n",
    "    \"group_by\": field\n",
    "}\n",
    "\n",
    "response = request(url, params)\n",
    "print(json.dumps(response, indent=4))"
   ]
  },
  {
   "cell_type": "code",
   "execution_count": 13,
   "metadata": {},
   "outputs": [],
   "source": [
    "unique_museums = [entity.get(\"nom_officiel_musee\") for entity in response[\"results\"]]\n",
    "unique_museums = unique_museums[1:]\n",
    "\n",
    "# [m for m in unique_museums if \"Musée du Louvre\" in m]"
   ]
  },
  {
   "attachments": {},
   "cell_type": "markdown",
   "metadata": {},
   "source": [
    "### Extract unique museums"
   ]
  },
  {
   "cell_type": "code",
   "execution_count": 15,
   "metadata": {},
   "outputs": [],
   "source": [
    "import unidecode\n",
    "\n",
    "from nltk.tokenize import word_tokenize\n",
    "from nltk.corpus import stopwords\n"
   ]
  },
  {
   "cell_type": "code",
   "execution_count": 31,
   "metadata": {},
   "outputs": [],
   "source": [
    "def preprocess_text(text):\n",
    "    text = text.lower()\n",
    "    text = unidecode.unidecode(text)\n",
    "    text = \"\".join([char for char in text if char.isalnum() or char.isspace()])\n",
    "    tokens = word_tokenize(text)\n",
    "    tokens = [word for word in tokens if word not in stopwords.words(\"french\")]\n",
    "    return \" \".join(tokens)\n"
   ]
  },
  {
   "cell_type": "code",
   "execution_count": null,
   "metadata": {},
   "outputs": [],
   "source": [
    "preprocessed_titles = [preprocess_text(museum_name) for museum_name in unique_museums]\n",
    "preprocessed_titles"
   ]
  },
  {
   "attachments": {},
   "cell_type": "markdown",
   "metadata": {},
   "source": [
    "### Compute similarity"
   ]
  },
  {
   "cell_type": "code",
   "execution_count": 33,
   "metadata": {},
   "outputs": [],
   "source": [
    "from sklearn.feature_extraction.text import TfidfVectorizer\n",
    "from sklearn.metrics.pairwise import cosine_similarity\n",
    "import numpy as np"
   ]
  },
  {
   "cell_type": "code",
   "execution_count": null,
   "metadata": {},
   "outputs": [],
   "source": [
    "vectorizer = TfidfVectorizer()\n",
    "tfidf_matrix = vectorizer.fit_transform(preprocessed_titles)\n",
    "\n",
    "similarity_matrix = cosine_similarity(tfidf_matrix)\n",
    "print(similarity_matrix)"
   ]
  },
  {
   "cell_type": "code",
   "execution_count": 45,
   "metadata": {},
   "outputs": [],
   "source": [
    "similarity_matrix_normalized = (similarity_matrix + 1)/2\n"
   ]
  },
  {
   "cell_type": "code",
   "execution_count": 52,
   "metadata": {},
   "outputs": [],
   "source": [
    "distance = 1 - similarity_matrix_normalized\n",
    "distance = np.maximum(0, distance)\n"
   ]
  },
  {
   "cell_type": "code",
   "execution_count": 36,
   "metadata": {},
   "outputs": [],
   "source": [
    "from sklearn.cluster import DBSCAN\n",
    "import numpy as np"
   ]
  },
  {
   "cell_type": "code",
   "execution_count": null,
   "metadata": {},
   "outputs": [],
   "source": [
    "similarity_threshold = 0.7\n",
    "distance_matrix = 1 - similarity_matrix_normalized\n",
    "distance_matrix = np.maximum(0, distance_matrix)\n",
    "clustering = DBSCAN(eps=1-similarity_threshold, min_samples=1, metric=\"precomputed\").fit(distance_matrix)\n",
    "\n",
    "clusters = clustering.labels_\n",
    "for cluster_id, title in sorted(zip(clusters, unique_museums)):\n",
    "    print(f\"Cluster {cluster_id}: {title}\")"
   ]
  },
  {
   "cell_type": "code",
   "execution_count": null,
   "metadata": {},
   "outputs": [],
   "source": [
    "specific_museum = \"musée du Louvre\"\n",
    "BASE_URL = \"https://data.culture.gouv.fr/api/explore/v2.1/catalog/datasets/base-joconde-extrait/records\"\n",
    "\n",
    "# Call to specicific museum\n",
    "params = {\n",
    "    \"where\": f\"search(nom_officiel_musee,\\\"{specific_museum}\\\")\"\n",
    "}\n",
    "\n",
    "louvre_collection = request(BASE_URL, params)\n",
    "louvre_collection"
   ]
  },
  {
   "attachments": {},
   "cell_type": "markdown",
   "metadata": {},
   "source": [
    "# Web-scraping"
   ]
  },
  {
   "attachments": {},
   "cell_type": "markdown",
   "metadata": {},
   "source": [
    "## 1. musée du Louvre "
   ]
  },
  {
   "cell_type": "code",
   "execution_count": 22,
   "metadata": {},
   "outputs": [],
   "source": [
    "# Find a piece \"Service du roi d'Angleterre George III : Seau à verres, d'une paire\"\n"
   ]
  },
  {
   "cell_type": "code",
   "execution_count": 12,
   "metadata": {},
   "outputs": [],
   "source": [
    "BASE_URL = \"https://collections.louvre.fr\"\n",
    "SEARCH = \"recherche\"\n",
    "QUERY = \"q\"\n"
   ]
  },
  {
   "cell_type": "code",
   "execution_count": 3,
   "metadata": {},
   "outputs": [],
   "source": [
    "from bs4 import BeautifulSoup\n",
    "import requests"
   ]
  },
  {
   "cell_type": "code",
   "execution_count": 3,
   "metadata": {},
   "outputs": [],
   "source": [
    "def search(query):\n",
    "    \"\"\"Search for Louvre's collection\"\"\"\n",
    "    urls_to_results = []\n",
    "    try:\n",
    "        response = requests.get(url=f\"{BASE_URL}/{SEARCH}\", \n",
    "                                params={QUERY: query})\n",
    "        soup = BeautifulSoup(response._content, \"html.parser\")\n",
    "        results_container = soup.find(\"div\", class_ = \"search__results__container\")\n",
    "        results = results_container.find_all(\"div\", class_=\"card__outer\")\n",
    "        urls_to_results = [f\"{BASE_URL}/{r.find(\"a\").attrs.get(\"href\")}\" for r in results]\n",
    "    except:\n",
    "        ...\n",
    "    finally:\n",
    "        return urls_to_results\n"
   ]
  },
  {
   "cell_type": "code",
   "execution_count": 4,
   "metadata": {},
   "outputs": [],
   "source": [
    "piece = \"Service du roi d'Angleterre George III : Seau à verres, d'une paire\"\n",
    "results = search(piece)"
   ]
  },
  {
   "cell_type": "code",
   "execution_count": 11,
   "metadata": {},
   "outputs": [
    {
     "data": {
      "text/plain": [
       "'https://collections.louvre.fr//ark:/53355/cl010111604'"
      ]
     },
     "execution_count": 11,
     "metadata": {},
     "output_type": "execute_result"
    }
   ],
   "source": [
    "results[0]"
   ]
  },
  {
   "cell_type": "code",
   "execution_count": 174,
   "metadata": {},
   "outputs": [
    {
     "data": {
      "text/plain": [
       "'\\nhttps://data.culture.gouv.fr/api/explore/v2.1/catalog/datasets/base-joconde-extrait/records?where=search%28titre%2C%22Service+du+roi+d%27Angleterre+George+III+%3A+Seau+%C3%A0+verres%2C+d%27une+paire%22%29\\n'"
      ]
     },
     "execution_count": 174,
     "metadata": {},
     "output_type": "execute_result"
    }
   ],
   "source": [
    "# example of one of the Louvre's pieces\n",
    "\"\"\"\n",
    "https://data.culture.gouv.fr/api/explore/v2.1/catalog/datasets/base-joconde-extrait/records?where=search%28titre%2C%22Service+du+roi+d%27Angleterre+George+III+%3A+Seau+%C3%A0+verres%2C+d%27une+paire%22%29\n",
    "\"\"\""
   ]
  },
  {
   "cell_type": "code",
   "execution_count": 4,
   "metadata": {},
   "outputs": [],
   "source": [
    "def get_piece_info(url):\n",
    "    \"\"\"returns dictionary of:\n",
    "    - title\n",
    "    - image resource url\n",
    "    - author\n",
    "    - means (materials, technique)\n",
    "    - period of creation (start - end)\n",
    "    - hystorical period \n",
    "    - place of creation\n",
    "    - physical location\n",
    "    - department of Louvre museum\n",
    "    - description\n",
    "    - historical information\"\"\"\n",
    "    piece_info = None\n",
    "    try:\n",
    "        resource = requests.get(url)\n",
    "        soup = BeautifulSoup(resource.content, \"html.parser\")\n",
    "        content = soup.find(\"div\", attrs={\"id\": \"content\"})\n",
    "        \n",
    "        piece_title = content.find(class_=\"notice__title h_1\").text.strip()\n",
    "        # image resource url\n",
    "        piece_image_url = f\"{BASE_URL}/{content.find(\"picture\").find(\"img\").attrs.get(\"src\")}\"\n",
    "        # author\n",
    "        piece_author = content.find(class_ = \"notice__author\").text.strip()\n",
    "        # physical location\n",
    "        piece_georeference = content.find(class_ = \"notice__date geo-reference\")\n",
    "        if piece_georeference is not None:\n",
    "            piece_georeference = piece_georeference.text.strip() \n",
    "        # department of Louvre museum\n",
    "        museum_department = content.find_all(class_ = \"notice__date\")[-1].text.strip() # in joconde\n",
    "        \n",
    "        piece_details = content.find_all(\"div\", class_=\"notice__fullcartel__part\")\n",
    "\n",
    "        detailed_info = dict()\n",
    "        for i, _ in enumerate(['description', 'technical_info', 'creation', 'history'], start=1):\n",
    "            fields = [field.text.strip() for field in piece_details[i].find_all(\"div\", class_ = \"part__label\")]\n",
    "            values = [field.text.strip() for field in piece_details[i].find_all(\"div\", class_ = \"part__content\")]\n",
    "\n",
    "            for f, v in zip(fields, values):\n",
    "                detailed_info[f] = v\n",
    "        piece_material_technique = detailed_info.get(\"Matière et technique\")\n",
    "        piece_info = {\n",
    "            \"title\": piece_title,\n",
    "            \"image_url\": piece_image_url,\n",
    "            \"author\": piece_author,\n",
    "            \"means\": piece_material_technique, \n",
    "            \"creation_period\": detailed_info.get(\"Date de création / fabrication\"), \n",
    "            \"creation_location\": detailed_info.get(\"Lieu de création / fabrication / exécution\"), \n",
    "            \"physical_location\": piece_georeference,\n",
    "            \"department\": museum_department,\n",
    "            \"description\": detailed_info.get(\"Description / Décor\"), \n",
    "            \"history\": detailed_info.get(\"Historique de l'œuvre\")\n",
    "        }\n",
    "    except:\n",
    "        ...\n",
    "    finally:\n",
    "        return piece_info"
   ]
  },
  {
   "attachments": {},
   "cell_type": "markdown",
   "metadata": {},
   "source": [
    "# Test"
   ]
  },
  {
   "cell_type": "code",
   "execution_count": null,
   "metadata": {},
   "outputs": [],
   "source": [
    "get_piece_info('https://collections.louvre.fr/ark:/53355/cl010111604')"
   ]
  },
  {
   "cell_type": "code",
   "execution_count": null,
   "metadata": {},
   "outputs": [],
   "source": [
    "get_piece_info(\"https://collections.louvre.fr/ark:/53355/cl010052603\")"
   ]
  },
  {
   "cell_type": "code",
   "execution_count": 61,
   "metadata": {},
   "outputs": [],
   "source": [
    "from random import sample"
   ]
  },
  {
   "cell_type": "code",
   "execution_count": null,
   "metadata": {},
   "outputs": [],
   "source": [
    "louvre_collection"
   ]
  },
  {
   "cell_type": "code",
   "execution_count": null,
   "metadata": {},
   "outputs": [],
   "source": [
    "pieces = [piece[\"titre\"] for piece in sample(louvre_collection[\"results\"], 10)]\n",
    "pieces"
   ]
  },
  {
   "cell_type": "code",
   "execution_count": 6,
   "metadata": {},
   "outputs": [],
   "source": [
    "pieces = [\"Service du roi d'Angleterre George III : Moutardier en forme de vase, d'une paire (OA 10611).\",\n",
    " 'Tapisserie Millefleurs : scène allégorique',\n",
    " 'Secrétaire à abattant',\n",
    " 'Histoire de Don Quichotte : Don Quichotte',\n",
    " \"Nécessaire à thé du Régent, Philippe d'Orléans : tasse\",\n",
    " \"Service du roi d'Angleterre George III : Seau à verres, d'une paire\",\n",
    " \"Service du roi d'Angleterre George III : Huilier d'une paire\",\n",
    " \"Service du roi d'Angleterre George III : Chandelier, d'une paire\",\n",
    " 'Commode à trois vantaux ornée de 5 plaques en porcelaine',\n",
    " 'Vase à dauphins']"
   ]
  },
  {
   "cell_type": "code",
   "execution_count": 7,
   "metadata": {},
   "outputs": [
    {
     "data": {
      "text/plain": [
       "[]"
      ]
     },
     "execution_count": 7,
     "metadata": {},
     "output_type": "execute_result"
    }
   ],
   "source": [
    "search(\"Service du roi d'Angleterre George III : Moutardier en forme de vase, d'une paire (OA 10611).\")"
   ]
  },
  {
   "cell_type": "code",
   "execution_count": 14,
   "metadata": {},
   "outputs": [
    {
     "data": {
      "text/plain": [
       "200"
      ]
     },
     "execution_count": 14,
     "metadata": {},
     "output_type": "execute_result"
    }
   ],
   "source": [
    "query = \"Service du roi d'Angleterre George III : Moutardier en forme de vase, d'une paire (OA 10611).\"\n",
    "response = requests.get(url=f\"{BASE_URL}/{SEARCH}\", \n",
    "                                params={QUERY: query})\n",
    "response.status_code"
   ]
  },
  {
   "cell_type": "code",
   "execution_count": 15,
   "metadata": {},
   "outputs": [],
   "source": [
    "soup = BeautifulSoup(response._content, \"html.parser\")"
   ]
  },
  {
   "cell_type": "code",
   "execution_count": 16,
   "metadata": {},
   "outputs": [],
   "source": [
    "results_container = soup.find(\"div\", class_ = \"search__results__container\")"
   ]
  },
  {
   "cell_type": "code",
   "execution_count": 17,
   "metadata": {},
   "outputs": [],
   "source": [
    "results = results_container.find_all(\"div\", class_=\"card__outer\")"
   ]
  },
  {
   "cell_type": "code",
   "execution_count": 18,
   "metadata": {},
   "outputs": [
    {
     "data": {
      "text/plain": [
       "['https://collections.louvre.fr//ark:/53355/cl010110033',\n",
       " 'https://collections.louvre.fr//ark:/53355/cl010114056']"
      ]
     },
     "execution_count": 18,
     "metadata": {},
     "output_type": "execute_result"
    }
   ],
   "source": [
    "urls_to_results = [f\"{BASE_URL}/{r.find(\"a\").attrs.get(\"href\")}\" for r in results]\n",
    "urls_to_results"
   ]
  },
  {
   "cell_type": "code",
   "execution_count": null,
   "metadata": {},
   "outputs": [],
   "source": [
    "searches = [search(item) for item in pieces]\n",
    "searches"
   ]
  },
  {
   "cell_type": "code",
   "execution_count": null,
   "metadata": {},
   "outputs": [],
   "source": [
    "searches"
   ]
  },
  {
   "attachments": {},
   "cell_type": "markdown",
   "metadata": {},
   "source": [
    "### import csv file of all Louvres entries\n"
   ]
  },
  {
   "cell_type": "code",
   "execution_count": 4,
   "metadata": {},
   "outputs": [],
   "source": [
    "# import csv file of all Lovres entries\n",
    "field0 = \"nom_officiel_musee\"\n",
    "value0 = \"musée du Louvre\"\n",
    "BASE_URL = \"https://data.culture.gouv.fr/api/explore/v2.1/catalog/datasets/base-joconde-extrait/exports/json\"\n",
    "\n",
    "# Call to specicific museum\n",
    "params = {\n",
    "    \"where\": f\"domaine in (\\\"peinture\\\", \\\"dessin\\\") and search({field0},\\\"{value0}\\\")\" # extract only paintings and drawings\n",
    "}\n",
    "\n",
    "louvre_collection = requests.get(BASE_URL, params).content\n",
    "\n"
   ]
  },
  {
   "cell_type": "code",
   "execution_count": 8,
   "metadata": {},
   "outputs": [
    {
     "data": {
      "text/plain": [
       "False"
      ]
     },
     "execution_count": 8,
     "metadata": {},
     "output_type": "execute_result"
    }
   ],
   "source": [
    "louvre_collection is None"
   ]
  },
  {
   "cell_type": "code",
   "execution_count": 26,
   "metadata": {},
   "outputs": [
    {
     "data": {
      "text/plain": [
       "'https://data.culture.gouv.fr/api/explore/v2.1/catalog/datasets/base-joconde-extrait/exports/json'"
      ]
     },
     "execution_count": 26,
     "metadata": {},
     "output_type": "execute_result"
    }
   ],
   "source": [
    "BASE_URL"
   ]
  },
  {
   "attachments": {},
   "cell_type": "markdown",
   "metadata": {},
   "source": [
    "# Louvre csv file analysis"
   ]
  },
  {
   "cell_type": "code",
   "execution_count": 1,
   "metadata": {},
   "outputs": [],
   "source": [
    "import pandas as pd"
   ]
  },
  {
   "cell_type": "code",
   "execution_count": 11,
   "metadata": {},
   "outputs": [],
   "source": [
    "# paintings and gravures\n",
    "louvre_0 = pd.read_csv(\"22_0_to_5000.csv\", sep=\";\", quotechar='\"')\n",
    "louvre_1 = pd.read_csv(\"22_5000_to_10000.csv\", sep=\";\", quotechar='\"')\n",
    "louvre_2 = pd.read_csv(\"22_10000_to_15000.csv\", sep=\";\", quotechar='\"')\n",
    "# drawings\n",
    "louvre_3 = pd.read_csv(\"13_0_to_5000.csv\", sep=\";\", quotechar='\"')\n",
    "louvre_4 = pd.read_csv(\"13_5000_to_10000.csv\", sep=\";\", quotechar='\"')\n",
    "\n",
    "louvre = pd.concat([louvre_0, louvre_1, louvre_2, louvre_3, louvre_4], axis=0)"
   ]
  },
  {
   "cell_type": "code",
   "execution_count": 26,
   "metadata": {},
   "outputs": [],
   "source": [
    "louvre[\"url\"] = louvre['ARK'].map(lambda ark: f\"https://collections.louvre.fr/ark:/53355/{ark}.json\")"
   ]
  },
  {
   "cell_type": "code",
   "execution_count": 30,
   "metadata": {},
   "outputs": [
    {
     "data": {
      "text/plain": [
       "16702"
      ]
     },
     "execution_count": 30,
     "metadata": {},
     "output_type": "execute_result"
    }
   ],
   "source": [
    "len(louvre)"
   ]
  },
  {
   "cell_type": "code",
   "execution_count": 31,
   "metadata": {},
   "outputs": [],
   "source": [
    "import json"
   ]
  },
  {
   "cell_type": "code",
   "execution_count": 36,
   "metadata": {},
   "outputs": [],
   "source": [
    "import requests\n",
    "from requests.adapters import HTTPAdapter\n",
    "from urllib3.util.retry import Retry"
   ]
  },
  {
   "cell_type": "code",
   "execution_count": 33,
   "metadata": {},
   "outputs": [],
   "source": [
    "def get_retrying_session(retries=5, backoff_factor=0.3, status_forcelist=(500, 502, 504)):\n",
    "    session = requests.Session()\n",
    "    retry = Retry(\n",
    "        total=retries,\n",
    "        read=retries,\n",
    "        connect=retries,\n",
    "        backoff_factor=backoff_factor,  # Exponential delay: 0.3, 0.6, 1.2, ...\n",
    "        status_forcelist=status_forcelist,\n",
    "        raise_on_status=False\n",
    "    )\n",
    "    adapter = HTTPAdapter(max_retries=retry)\n",
    "    session.mount(\"http://\", adapter)\n",
    "    session.mount(\"https://\", adapter)\n",
    "    return session\n"
   ]
  },
  {
   "cell_type": "code",
   "execution_count": 34,
   "metadata": {},
   "outputs": [
    {
     "data": {
      "text/plain": [
       "array(['https://collections.louvre.fr/ark:/53355/cl010048442.json',\n",
       "       'https://collections.louvre.fr/ark:/53355/cl010049217.json',\n",
       "       'https://collections.louvre.fr/ark:/53355/cl010052603.json', ...,\n",
       "       'https://collections.louvre.fr/ark:/53355/cl020629645.json',\n",
       "       'https://collections.louvre.fr/ark:/53355/cl020629646.json',\n",
       "       'https://collections.louvre.fr/ark:/53355/cl020629647.json'],\n",
       "      dtype=object)"
      ]
     },
     "execution_count": 34,
     "metadata": {},
     "output_type": "execute_result"
    }
   ],
   "source": [
    "louvre[\"url\"].values"
   ]
  },
  {
   "cell_type": "code",
   "execution_count": null,
   "metadata": {},
   "outputs": [],
   "source": [
    "from tqdm import tqdm"
   ]
  },
  {
   "cell_type": "code",
   "execution_count": 37,
   "metadata": {},
   "outputs": [],
   "source": [
    "louvre_ds = []\n",
    "session = get_retrying_session()\n",
    "for piece_url in tqdm(louvre[\"url\"].values):\n",
    "    try:\n",
    "        request = session.get(piece_url)\n",
    "        request.raise_for_status()\n",
    "        louvre_ds.append(request.content)\n",
    "    except Exception as e:\n",
    "        print(f\"Failed to GET reponse from {piece_url}: {e}\")\n",
    "\n",
    "        \n"
   ]
  },
  {
   "cell_type": "code",
   "execution_count": 38,
   "metadata": {},
   "outputs": [],
   "source": [
    "import pickle\n",
    "\n",
    "with open(\"louvre_ds\", \"wb\") as f:\n",
    "    pickle.dump(louvre_ds, f)"
   ]
  },
  {
   "cell_type": "code",
   "execution_count": 9,
   "metadata": {},
   "outputs": [],
   "source": [
    "import json\n",
    "import pickle"
   ]
  },
  {
   "cell_type": "code",
   "execution_count": 11,
   "metadata": {},
   "outputs": [],
   "source": [
    "with open(\"louvre_ds\", \"rb\") as f:\n",
    "    louvre_ds = [json.loads(entity) for entity in pickle.load(f)]"
   ]
  },
  {
   "cell_type": "code",
   "execution_count": 12,
   "metadata": {},
   "outputs": [
    {
     "data": {
      "text/plain": [
       "{'arkId': 'cl010048442',\n",
       " 'url': 'https://collections.louvre.fr/ark:/53355/cl010048442',\n",
       " 'modified ': '2025-04-29',\n",
       " 'title': 'Tyché de Constantinople',\n",
       " 'titleComplement': '',\n",
       " 'denominationTitle': [{'type': 'Titre', 'value': 'Tyché de Constantinople'},\n",
       "  {'type': 'Dénomination', 'value': 'peinture'}],\n",
       " 'displayDateCreated': 'Date de création/fabrication : époque byzantine (1e moitié VIIe s. ap. JC) (inscription/dédicace/signature) (600 - 649)',\n",
       " 'currentLocation': 'non exposé',\n",
       " 'room': '',\n",
       " 'isMuseesNationauxRecuperation': False,\n",
       " 'dateCreated': [{'startYear': 600,\n",
       "   'endYear': 649,\n",
       "   'imprecision': '',\n",
       "   'text': 'époque byzantine',\n",
       "   'type': 'Date de création/fabrication',\n",
       "   'doubt': ''}],\n",
       " 'creator': [],\n",
       " 'objectNumber': [{'value': 'AF 10878', 'type': 'Numéro principal'},\n",
       "  {'value': 'AF 10879', 'type': \"Autre numéro d'inventaire\"}],\n",
       " 'collection': 'Département des Arts de Byzance et des Chrétientés en Orient',\n",
       " 'printsDrawingsEntity': '',\n",
       " 'printsDrawingsCollection': '',\n",
       " 'objectType': '',\n",
       " 'originalObject': '',\n",
       " 'printState': '',\n",
       " 'description': 'Décor : Tyché ; couronne ; manteau ; palmette',\n",
       " 'inscriptions': 'Écriture : \\r ; arabe (au revers)\\r ; araméen (melkite, sous la peinture)\\r ; grec oncial\\r ; Traduction : \\r ; la belle florissante',\n",
       " 'namesAndTitles': '',\n",
       " 'onomastics': '',\n",
       " 'dimension': [{'type': 'Hauteur',\n",
       "   'value': '37',\n",
       "   'displayDimension': '37 cm',\n",
       "   'unit': 'cm',\n",
       "   'anteriorPrecision': '',\n",
       "   'posteriorPrecision': '',\n",
       "   'tri': 11,\n",
       "   'note': ''},\n",
       "  {'type': 'Largeur',\n",
       "   'value': '18,6',\n",
       "   'displayDimension': '18,6 cm',\n",
       "   'unit': 'cm',\n",
       "   'anteriorPrecision': '',\n",
       "   'posteriorPrecision': '',\n",
       "   'tri': 32,\n",
       "   'note': ''},\n",
       "  {'type': 'Epaisseur',\n",
       "   'value': '0,7',\n",
       "   'displayDimension': '0,7 cm',\n",
       "   'unit': 'cm',\n",
       "   'anteriorPrecision': '',\n",
       "   'posteriorPrecision': '',\n",
       "   'tri': 53,\n",
       "   'note': ''}],\n",
       " 'shape': '',\n",
       " 'materialsAndTechniques': 'Matériau : épicéa\\r\\nMatériau secondaire : encre\\r\\nTechnique : peinture, écriture, badigeonnage',\n",
       " 'placeOfCreation': '',\n",
       " 'dateOfDiscovery': '1922',\n",
       " 'placeOfDiscovery': 'Edfou (Haute Égypte->Égypte->Afrique du Nord)',\n",
       " 'provenance': '',\n",
       " 'historicalContext': [],\n",
       " 'objectHistory': 'Propriétaire précédent : Musée du Louvre, AE, Paris',\n",
       " 'jabachInventory': '',\n",
       " 'napoleonInventory': '',\n",
       " 'previousOwner': [{'value': 'Henne, Henri',\n",
       "   'note': '',\n",
       "   'role': ', Fouilleur/Archéologue'}],\n",
       " 'acquisitionDetails': [{'mode': 'partage après fouilles',\n",
       "   'doubt': '',\n",
       "   'dates': [{'type': \"date d'arrivée au Musée\",\n",
       "     'value': '1922',\n",
       "     'startYear': 1922,\n",
       "     'endYear': 1922}]}],\n",
       " 'ownedBy': 'Etat',\n",
       " 'heldBy': 'Musée du Louvre, Département des Arts de Byzance et des Chrétientés en Orient',\n",
       " 'longTermLoanTo': '',\n",
       " 'index': {\"Mode d'acquisition\": [{'value': 'partage après fouilles'}],\n",
       "  'denomination': [{'value': 'peinture'}],\n",
       "  'material': [{'value': 'encre'}, {'value': 'épicéa'}],\n",
       "  'technic': [{'value': 'écriture'},\n",
       "   {'value': 'badigeonnage'},\n",
       "   {'value': 'peinture'}],\n",
       "  'description': [{'value': 'couronne'},\n",
       "   {'value': 'palmette'},\n",
       "   {'value': 'Tyché'},\n",
       "   {'value': 'manteau'}],\n",
       "  'period': [{'value': 'époque byzantine'}],\n",
       "  'place': [{'value': 'Edfou'}],\n",
       "  'inscriptionWritingSystem': [{'value': 'grec oncial'},\n",
       "   {'value': 'arabe'},\n",
       "   {'value': 'araméen'}]},\n",
       " 'bibliography': [{'bibliographyRef': 'Silk Roads, cat. exp. (Londres (Externe, Royaume Uni), British Museum, 26/09/2024-23/02/2025), Londres, British Museum Press, 2024',\n",
       "   'bibliographyDate': '2024',\n",
       "   'bibliographyDetail': 'p. 221, fig.5.42 p. 223',\n",
       "   'comparison': False},\n",
       "  {'bibliographyRef': 'Mathews, Thomas F., \\tLes origines païennes des icônes, Paris, Les éditions du Cerf, 2016',\n",
       "   'bibliographyDate': '2016',\n",
       "   'bibliographyDetail': 'p. 10, 29, 38, 41, 57, 83, 160-161, 195, 198, ill. 1.9, 1.10 p. 38',\n",
       "   'comparison': False},\n",
       "  {'bibliographyRef': \"Fluck, Cäcilia ; Helmecke, Gisela ; O'Connell, Elisabeth R. (dir.), Egypt : faith after the pharaohs, cat. exp. (London, British Museum, 2015-2016), London, The British Museum /Michael Imhof Verlag, 2015\",\n",
       "   'bibliographyDate': '2015',\n",
       "   'bibliographyDetail': 'p. 200, ill. 220 p. 200',\n",
       "   'comparison': False},\n",
       "  {'bibliographyRef': \"Fluck, Cäcilia, Helmecke, Gisela, O'Connell, Elisabeth R. (dir.), Ein Gott, Abrahams Erben am Nil, Juden, Christen und Muslime in Ägypten von der Antike bis zum Mittelalter, cat. exp. (Berlin (Allemagne), Bode-Museum, 2015), Petersberg, Michael Imhof Verlag, 2015\",\n",
       "   'bibliographyDate': '2015',\n",
       "   'bibliographyDetail': 'p. 200, 202-203, p. 203',\n",
       "   'comparison': False},\n",
       "  {'bibliographyRef': 'Poulsen, Birte, « City personifications in Late Antiquity », dans Birke, Stine ; Kristensen, Troels Myrup ; Poulsen, Birte (dir.), Using images in Late Antiquity, Oxford, Oxbow books, 2014',\n",
       "   'bibliographyDate': '2014',\n",
       "   'bibliographyDetail': 'p. 220',\n",
       "   'comparison': False},\n",
       "  {'bibliographyRef': \"Rondot, Vincent, Derniers visages des dieux d’Egypte : iconographies, panthéons et cultes dans le Fayoum hellénisé des IIe-IIIe siècles de notre ère, Paris, Louvre éditions ; Presses de l'université Paris-Sorbonne, (Passé Présent), 2013\",\n",
       "   'bibliographyDate': '2013',\n",
       "   'bibliographyDetail': 'p. 297 n. 72',\n",
       "   'comparison': False},\n",
       "  {'bibliographyRef': 'Marsengill, Katherine, Portraits and icons : Between reality and spirituality in Byzantine art, Turnhout, Brepols, 2013',\n",
       "   'bibliographyDate': '2013',\n",
       "   'bibliographyDetail': 'p. 79, notes 83-85, fig. 11 p. 339',\n",
       "   'comparison': False},\n",
       "  {'bibliographyRef': \"Bénazeth, Dominique, « Les textiles conservés à la section copte du musée du Louvre : évolution d'une collection », dans Drawing the threads together : textiles and footwear of the 1st millennium AD from Egypt : proceedings of the 7th conference of the research group 'Textiles from the Nile Valley', Antwerp, 7-9 October 2011, Tielt, Lannoo, 2013, p. 88-90\",\n",
       "   'bibliographyDate': '2013',\n",
       "   'bibliographyDetail': 'p. 90 note 8',\n",
       "   'comparison': False},\n",
       "  {'bibliographyRef': \"Bel, Nicolas ; Giroire, Cécile ; Gombert, Florence ; Rutschowscaya, Marie-Hélène (dir.), L'Orient romain et byzantin au Louvre, Arles / Paris, Actes Sud / Louvre éditions, 2012\",\n",
       "   'bibliographyDate': '2012',\n",
       "   'bibliographyDetail': 'p. 312-313, 315, fig. 303 p. 312-313',\n",
       "   'comparison': False},\n",
       "  {'bibliographyRef': \"Andreu, Guillemette (dir.), Objets d'Égypte : des rives du Nil aux bords de Seine, [Musée du Louvre, Paris], Paris, Le Passage Paris-New York éditions / Louvre éditions, 2009\",\n",
       "   'bibliographyDate': '2009',\n",
       "   'bibliographyDetail': 'n° 99',\n",
       "   'comparison': False},\n",
       "  {'bibliographyRef': \"Andreu, Guillemette (dir.), Objets d'Égypte : des rives du Nil aux bords de Seine, [Musée du Louvre, Paris], Paris, Le Passage Paris-New York éditions / Louvre éditions, 2009\",\n",
       "   'bibliographyDate': '2009',\n",
       "   'bibliographyDetail': 'Edfou 5b',\n",
       "   'comparison': False},\n",
       "  {'bibliographyRef': \"Pomarède, Vincent, 1001 Peintures au Louvre : de l'Antiquité au XIXe siècle, Paris, Musée du Louvre éditions, 2005\",\n",
       "   'bibliographyDate': '2005',\n",
       "   'bibliographyDetail': 'n° 37',\n",
       "   'comparison': False},\n",
       "  {'bibliographyRef': \"Rutschowscaya, Marie-Hélène ; Bénazeth, Dominique, « Apports des fouilles d'Edfou au musée du Louvre », dans Tell-Edfou soixante ans après, Actes du colloque franco-polonais, Le Caire, 15 octobre 1996, Fouilles franco-polonaises, 4, Le Caire, Institut français d'archéologie orientale (IFAO), 1999, p.55-58\",\n",
       "   'bibliographyDate': '1999',\n",
       "   'bibliographyDetail': 'p. 57, fig.4 p. 58',\n",
       "   'comparison': False},\n",
       "  {'bibliographyRef': \"Andreu, Guillemette ; Rutschowscaya, Marie-Hélène ; Ziegler, Christiane, L'Égypte ancienne au Louvre, [Musée du Louvre, Paris], Paris, Hachette, 1997\",\n",
       "   'bibliographyDate': '1997',\n",
       "   'bibliographyDetail': 'p. 247-248 ; 257, ill. p. 247, n° 128',\n",
       "   'comparison': False},\n",
       "  {'bibliographyRef': 'Desreumaux, Alain, « Une inscription araméenne melkite sous une peinture copte du musée du Louvre. Le texte araméen melkite », Oriens Christianus, 80, 1996, p. 82-97',\n",
       "   'bibliographyDate': '1996',\n",
       "   'bibliographyDetail': 'p. 82-97',\n",
       "   'comparison': False},\n",
       "  {'bibliographyRef': \"Durand, Jannic (commissaire général) (dir.), Byzance : L'art byzantin dans les collections publiques françaises, cat. exp. (Paris, Musée du Louvre, 6 novembre 1992 - 1er février 1993), Paris, Réunion des musées nationaux, 1992\",\n",
       "   'bibliographyDate': '1992',\n",
       "   'bibliographyDetail': 'p. 146, ill. p. 147, n° 100',\n",
       "   'comparison': False},\n",
       "  {'bibliographyRef': 'Rutschowscaya, Marie-Hélène, Musée du Louvre, département des Antiquités égyptiennes. La peinture copte, Paris, Réunion des musées nationaux, 1992',\n",
       "   'bibliographyDate': '1992',\n",
       "   'bibliographyDetail': 'p. 30-31, 60-62, ill. p.12, n°40',\n",
       "   'comparison': False},\n",
       "  {'bibliographyRef': \"Rutschowscaya, Marie-Hélène, « La peinture sur bois dans les collections coptes du musée du Louvre », dans Rassart-Debergh, Marguerite (dir.), Actes du IVe Congrès copte, Louvain-la-Neuve, 5-10 septembre 1988, Publications de l'Institut Orientaliste de Louvain, 40, Louvain-la-Neuve, Université catholique de Louvain, 1992, p. 56-62\",\n",
       "   'bibliographyDate': '1992',\n",
       "   'bibliographyDetail': 'p. 59, fig. 5 p. 61',\n",
       "   'comparison': False},\n",
       "  {'bibliographyRef': \"Rutschowscaya, Marie-Hélène ; Desreumaux, Alain, « Une peinture copte sur un bois inscrit en araméen christo-palestinien au musée du Louvre », Comptes rendus de l'Académie des Inscriptions & Belles-Lettres (CRAI), 1992, p. 83-92\",\n",
       "   'bibliographyDate': '1992',\n",
       "   'bibliographyDetail': 'p. 83-92, fig. 1 et 2',\n",
       "   'comparison': False},\n",
       "  {'bibliographyRef': \"Rassart-Debergh, Marguerite, « De l'icône païenne à l'icône chrétienne », Le monde copte : revue trimestrielle de la culture copte, 18, 1990, p. 39-70\",\n",
       "   'bibliographyDate': '1990',\n",
       "   'bibliographyDetail': 'p. 57-58, fig. 16 p. 58, n° 5.4',\n",
       "   'comparison': False},\n",
       "  {'bibliographyRef': 'Henne, Henri, Rapport sur les fouilles de Tell Edfou (1921-1922), Le Caire, (FIFAO ; 1), 1924',\n",
       "   'bibliographyDate': '1924',\n",
       "   'bibliographyDetail': 'p. 10 et 35-36, pl. XIX et XX',\n",
       "   'comparison': False}],\n",
       " 'exhibition': [{'value': 'Silk Roads, Londres (Externe, Royaume Uni), British Museum, 26/09/2024 - 23/02/2025 '},\n",
       "  {'value': \"One God. Abraham's legacy on the Nile, Londres (Royaume Uni), British Museum, 29/10/2015 - 07/02/2016, étape d'une exposition itinérante \"},\n",
       "  {'value': \"One God. Abraham's legacy on the Nile, Berlin (Allemagne), Bode-Museum, 01/04/2015 - 13/09/2015, étape d'une exposition itinérante \"},\n",
       "  {'value': \"L'Egypte copte à travers les collections du Musée du Louvre, Colmar (France), Musée d'histoire naturelle et d'ethnographie, salle d'exposition, 28/01/2011 - 15/06/2011 \"}],\n",
       " 'relatedWork': [],\n",
       " 'image': [{'urlImage': 'https://collections.louvre.fr/media/cache/large/0000000021/0000048442/0000040685_OG.JPG',\n",
       "   'urlThumbnail': 'https://collections.louvre.fr/media/cache/small/0000000021/0000048442/0000040685_OG.JPG',\n",
       "   'copyright': '© 2011 Musée du Louvre, Dist. GrandPalaisRmn / Georges Poncet',\n",
       "   'type': '',\n",
       "   'position': 0},\n",
       "  {'urlImage': 'https://collections.louvre.fr/media/cache/original/0000000021/0000048442/0000090921_OG.JPG',\n",
       "   'urlThumbnail': 'https://collections.louvre.fr/media/cache/small/0000000021/0000048442/0000090921_OG.JPG',\n",
       "   'copyright': '© Musée du Louvre / Département des Arts de Byzance et des Chrétientés en Orient',\n",
       "   'type': 'face, recto, avers, avant',\n",
       "   'position': 1}]}"
      ]
     },
     "execution_count": 12,
     "metadata": {},
     "output_type": "execute_result"
    }
   ],
   "source": [
    "louvre_ds[0]"
   ]
  },
  {
   "cell_type": "code",
   "execution_count": null,
   "metadata": {},
   "outputs": [],
   "source": [
    "# 'title', 'classification', 'subjects', 'techniques', 'materials', 'description', 'categories', 'artist', 'id', 'date_start', 'date_end', 'department_title', 'image_id', 'full_info', 'image_url'\n"
   ]
  },
  {
   "cell_type": "code",
   "execution_count": 15,
   "metadata": {},
   "outputs": [
    {
     "data": {
      "text/plain": [
       "{'arkId': 'cl010052603',\n",
       " 'url': 'https://collections.louvre.fr/ark:/53355/cl010052603',\n",
       " 'modified ': '2025-04-29',\n",
       " 'title': 'Vénitienne',\n",
       " 'titleComplement': '',\n",
       " 'denominationTitle': [{'type': 'Titre', 'value': 'Vénitienne'},\n",
       "  {'type': 'Ancien titre',\n",
       "   'value': 'Bourgeoise de Bologne - Femme à la mantille'}],\n",
       " 'displayDateCreated': 'Date de création/fabrication : 2e tiers du XVIIIe siècle (vers 1755 - 1759)',\n",
       " 'currentLocation': 'non exposé',\n",
       " 'room': '',\n",
       " 'isMuseesNationauxRecuperation': False,\n",
       " 'dateCreated': [{'startYear': 1755,\n",
       "   'endYear': 1759,\n",
       "   'imprecision': 'vers',\n",
       "   'text': '2e tiers du XVIIIe siècle',\n",
       "   'type': 'Date de création/fabrication',\n",
       "   'doubt': ''}],\n",
       " 'creator': [{'label': 'Barbault, Jean',\n",
       "   'attributionLevel': 'Attribution actuelle',\n",
       "   'linkType': '',\n",
       "   'dates': [{'date': '1762', 'place': 'Rome', 'type': 'date de mort'},\n",
       "    {'date': '1718',\n",
       "     'place': \"Viarmes (Val-d'Oise)\",\n",
       "     'type': 'date de naissance'}],\n",
       "   'creatorRole': '',\n",
       "   'authenticationType': '',\n",
       "   'doubt': '',\n",
       "   'attributedBy': '',\n",
       "   'attributedYear': '',\n",
       "   'wikidata': 'Q3170589'},\n",
       "  {'label': 'France',\n",
       "   'attributionLevel': 'Attribution actuelle',\n",
       "   'linkType': 'École de',\n",
       "   'creatorRole': '',\n",
       "   'authenticationType': '',\n",
       "   'doubt': '',\n",
       "   'attributedBy': '',\n",
       "   'attributedYear': '',\n",
       "   'wikidata': ''}],\n",
       " 'objectNumber': [{'value': 'RF 1948 9', 'type': 'Numéro principal'}],\n",
       " 'collection': 'Département des Peintures',\n",
       " 'printsDrawingsEntity': '',\n",
       " 'printsDrawingsCollection': '',\n",
       " 'objectType': '',\n",
       " 'originalObject': '',\n",
       " 'printState': '',\n",
       " 'description': '',\n",
       " 'inscriptions': \"Inscription : \\r ; Au revers, sur la toile, au pochoir en noir : RF 1948 9 (immatriculé en 2010)\\r ; Au revers, sur la toile une étiquette : 617/ (et inscription arrachée d'une panache. Phylactère étoilé. Premières lettres: CO)\\r ; Au revers sur le châssis, une étiquette manuscrite : Galleria civica d'arte moderna- Torino. Mostra : l'italia vista dai/ pittori francesi. Autore : Barbault. Opera : donna con mantiglia. Proprietario: museo Goya-Castres\\r ; Au revers, sur le châssis, une inscription : MUSEE GOYA CASTRES MUSEE GOYA CASTRES\\r ; Au revers, sur le châssis, une inscription: 617\",\n",
       " 'namesAndTitles': '',\n",
       " 'onomastics': '',\n",
       " 'dimension': [{'type': 'Hauteur',\n",
       "   'value': '0,24',\n",
       "   'displayDimension': '0,24 m',\n",
       "   'unit': 'm',\n",
       "   'anteriorPrecision': '',\n",
       "   'posteriorPrecision': '',\n",
       "   'tri': 1,\n",
       "   'note': ''},\n",
       "  {'type': 'Largeur',\n",
       "   'value': '0,18',\n",
       "   'displayDimension': '0,18 m',\n",
       "   'unit': 'm',\n",
       "   'anteriorPrecision': '',\n",
       "   'posteriorPrecision': '',\n",
       "   'tri': 2,\n",
       "   'note': ''}],\n",
       " 'shape': '',\n",
       " 'materialsAndTechniques': 'toile',\n",
       " 'placeOfCreation': '',\n",
       " 'dateOfDiscovery': '',\n",
       " 'placeOfDiscovery': '',\n",
       " 'provenance': '',\n",
       " 'historicalContext': [],\n",
       " 'objectHistory': 'Acquis par les musées nationaux en 1948 auprès de la galerie Schmit, avec le RF 1948 8. \\r\\nDéposé par le Louvre à Castres, musée Goya.\\r\\nŒuvre envoyée à Castres le 5 mai 1948 (3 DD 24-Livre de mouvements n°2 Peintures 1911-1952 / page 390)\\r\\n\\r\\nBarbault a peint plusieurs fois des figures dites de \"Costumes d\\'Italie\". Une première série de douze figures est documentée par une lettre du 10 novembre de Jean-François de Troy, directeur de l\\'Académie de France à Rome à Vandières, futur marquis de Marigny (\"Correspondance des directeurs de l\\'Académie de France à Rome avec les Surintendants des Bâtiments\", publiée par A. de Montaiglon et J. Guiffrey, Paris, tome X, 1900, p. 332).\\r\\nDix figures figurent aussi dans l\\'inventaire après-décès de Soufflot du 20 novembre 1780, n° 9.\\r\\nEn 1862, Léon Gaucherel grave et publie les \"Douze costumes d\\'Italie d\\'après les peintures faites par Barbault à Rome en 1750\". Selon Paul Mantz, ces tableaux appartenaient au graveur et présentaient des dates entre 1749 et 1752 (P. Mantz, \"Jean Barbault\", La chronique des Arts et de la Curiosité, 15 mars 1863, p. 158). \\r\\nLe Gentilhomme de Castres (RF 1948 8) présentant la date de 1755 ou 1759 (dernier chiffre diffcilement lisible), cela inciterait à croire les deux tableaux d\\'une autre série.\\r\\nBichonné par Brigitte Arbus au C2RMF à Flore en mars 2010.\\r\\nVu au C2RMF (Flore) le 09/04/2010 (visite du département des Peintures).',\n",
       " 'jabachInventory': '',\n",
       " 'napoleonInventory': '',\n",
       " 'previousOwner': [],\n",
       " 'acquisitionDetails': [{'mode': 'achat',\n",
       "   'doubt': '',\n",
       "   'dates': [{'type': 'date',\n",
       "     'value': '1948',\n",
       "     'startYear': 1948,\n",
       "     'endYear': 1948}]}],\n",
       " 'ownedBy': 'Etat',\n",
       " 'heldBy': 'Musée du Louvre, Département des Peintures',\n",
       " 'longTermLoanTo': 'Musée Goya, Castres',\n",
       " 'index': {\"Mode d'acquisition\": [{'value': 'achat'}]},\n",
       " 'bibliography': [{'bibliographyRef': \"Foucart-Walter, Élisabeth, « Tableaux déposés par le Louvre », dans Compin, Isabelle ; Roquebert, Anne (dir.), Catalogue sommaire illustré des peintures du musée du Louvre et du musée d'Orsay.\\xa0V. Ecole française. Annexes et index, Paris, Editions de la Réunion des musées nationaux, 1986, p. 194-394\",\n",
       "   'bibliographyDate': '1986',\n",
       "   'bibliographyDetail': 'p. 199',\n",
       "   'comparison': False}],\n",
       " 'exhibition': [{'value': 'Jean Barbault (1718-1762). Le théâtre de la vie italienne, Musée des Beaux-Arts, 21/05/2010 - 22/08/2010 '}],\n",
       " 'relatedWork': [{'objectUrl': 'https://collections.louvre.fr/ark:/53355/cl010510043',\n",
       "   'type': 'Analogie/comparaison'}],\n",
       " 'image': [{'urlImage': 'https://collections.louvre.fr/media/cache/large/0000000021/0000052603/0000135606_OG.JPG',\n",
       "   'urlThumbnail': 'https://collections.louvre.fr/media/cache/small/0000000021/0000052603/0000135606_OG.JPG',\n",
       "   'copyright': '© 2010 GrandPalaisRmn (musée du Louvre) / Hervé Lewandowski',\n",
       "   'type': \"face, recto, avers, avant ; vue d'ensemble ; vue sans cadre\",\n",
       "   'position': 0},\n",
       "  {'urlImage': 'https://collections.louvre.fr/media/cache/large/0000000021/0000052603/0000938447_OG.JPG',\n",
       "   'urlThumbnail': 'https://collections.louvre.fr/media/cache/small/0000000021/0000052603/0000938447_OG.JPG',\n",
       "   'copyright': '© 2019 Musée du Louvre / Département des Peintures',\n",
       "   'type': \"face, recto, avers, avant ; vue d'ensemble ; vue avec cadre\",\n",
       "   'position': 1}]}"
      ]
     },
     "execution_count": 15,
     "metadata": {},
     "output_type": "execute_result"
    }
   ],
   "source": [
    "louvre_ds[2]"
   ]
  },
  {
   "cell_type": "code",
   "execution_count": 59,
   "metadata": {},
   "outputs": [],
   "source": [
    "fields = ['image', 'index', 'materialsAndTechniques', 'description', 'inscriptions', 'displayDateCreated', 'date_end', 'date_start', 'title', 'url', 'arkId', 'attribution', 'artist', 'bibliography']"
   ]
  },
  {
   "cell_type": "code",
   "execution_count": null,
   "metadata": {},
   "outputs": [],
   "source": [
    "from functools import reduce"
   ]
  },
  {
   "cell_type": "code",
   "execution_count": 98,
   "metadata": {},
   "outputs": [],
   "source": [
    "louvre = {f: [] for f in fields}\n",
    "\n",
    "for i, entity in enumerate(louvre_ds):\n",
    "    try:\n",
    "        for f in fields:\n",
    "            if f in [\"date_end\", 'date_start'] :\n",
    "                d = entity.get('dateCreated', [])\n",
    "                if len(d) > 0:\n",
    "                    if f == \"date_end\":\n",
    "                        d = str(d[0].get('endYear', ''))\n",
    "                    else:\n",
    "                        d = str(d[0].get('startYear', ''))\n",
    "                else:\n",
    "                    d = ''\n",
    "                louvre[f].append(d)\n",
    "\n",
    "            elif f in ['attribution', 'artist']:\n",
    "                cs = entity.get('creator', '')\n",
    "                author, creator = '',  ''\n",
    "                if cs: \n",
    "                    author = cs[0].get('label', '') if len(cs) > 0 else ''\n",
    "                    creator = \". \".join([f\"{c.get('linkType', '')} {c.get('label', '')}, {c.get('attributionLevel', '')}, {c.get('creatorRole', '')}\"  for c in cs])\n",
    "                if f == 'artist':\n",
    "                    louvre[f].append(author)\n",
    "                else: \n",
    "                    louvre[f].append(creator)\n",
    "\n",
    "            elif f == 'index':\n",
    "                features = entity.get('index')\n",
    "                index = ''\n",
    "                if not isinstance(features, list):\n",
    "                    index = '. '.join([f'{feature_name}: {', '.join(reduce(lambda x, y: x + y, \n",
    "                                                               [list(v.values()) for v in values]))}' \n",
    "                                for feature_name, values in features.items()])\n",
    "                louvre[f].append(index)\n",
    "\n",
    "            elif f == 'image':\n",
    "                images = entity.get('image', [])\n",
    "                images = [im.get('urlImage') for im in images]\n",
    "                louvre[f].append(images[0] if len(images) > 0 else '')\n",
    "\n",
    "            elif f == 'bibliography':\n",
    "                bibliographies = entity.get('bibliography', [])\n",
    "                bibliographies = '; '.join([bib.get('bibliographyRef', '') for bib in bibliographies])\n",
    "                louvre[f].append(bibliographies)\n",
    "\n",
    "            else:\n",
    "                louvre[f].append(entity.get(f, ''))\n",
    "    except Exception as e:\n",
    "        print(f\"[{i}] error on entity {entity.get('url')}: {e}\")\n",
    "\n",
    "                "
   ]
  },
  {
   "cell_type": "code",
   "execution_count": null,
   "metadata": {},
   "outputs": [],
   "source": [
    "# NER on 'artist'"
   ]
  },
  {
   "cell_type": "code",
   "execution_count": 68,
   "metadata": {},
   "outputs": [
    {
     "name": "stderr",
     "output_type": "stream",
     "text": [
      "d:\\artworks_search_engine\\env\\Lib\\site-packages\\tqdm\\auto.py:21: TqdmWarning: IProgress not found. Please update jupyter and ipywidgets. See https://ipywidgets.readthedocs.io/en/stable/user_install.html\n",
      "  from .autonotebook import tqdm as notebook_tqdm\n"
     ]
    }
   ],
   "source": [
    "from datasets import Dataset\n",
    "import pandas as pd"
   ]
  },
  {
   "cell_type": "code",
   "execution_count": 103,
   "metadata": {},
   "outputs": [],
   "source": [
    "louvre_dataset = Dataset.from_pandas(pd.DataFrame(data=louvre))\n",
    "# louvre_dataset.save_to_disk(\"louvre_ds\")"
   ]
  },
  {
   "cell_type": "code",
   "execution_count": 104,
   "metadata": {},
   "outputs": [
    {
     "data": {
      "text/plain": [
       "Dataset({\n",
       "    features: ['image', 'index', 'materialsAndTechniques', 'description', 'inscriptions', 'displayDateCreated', 'date_end', 'date_start', 'title', 'url', 'arkId', 'attribution', 'artist', 'bibliography'],\n",
       "    num_rows: 16702\n",
       "})"
      ]
     },
     "execution_count": 104,
     "metadata": {},
     "output_type": "execute_result"
    }
   ],
   "source": [
    "louvre_dataset"
   ]
  },
  {
   "cell_type": "code",
   "execution_count": 108,
   "metadata": {},
   "outputs": [],
   "source": [
    "import os\n",
    "\n",
    "num_proc = os.cpu_count()"
   ]
  },
  {
   "cell_type": "code",
   "execution_count": 110,
   "metadata": {},
   "outputs": [
    {
     "name": "stderr",
     "output_type": "stream",
     "text": [
      "Map (num_proc=8):   0%|          | 0/16702 [00:00<?, ? examples/s]"
     ]
    },
    {
     "name": "stderr",
     "output_type": "stream",
     "text": [
      "Map (num_proc=8): 100%|██████████| 16702/16702 [00:07<00:00, 2232.90 examples/s]\n"
     ]
    }
   ],
   "source": [
    "louvre_dataset = louvre_dataset.map(lambda batch: {\n",
    "    'displayDateCreated': [x.replace('Date de création/fabrication :', '').strip() \n",
    "                           for x in batch['displayDateCreated']]\n",
    "    }, \n",
    "                   batched=True, \n",
    "                   batch_size=1000, \n",
    "                   num_proc=num_proc)"
   ]
  },
  {
   "cell_type": "code",
   "execution_count": 115,
   "metadata": {},
   "outputs": [
    {
     "name": "stderr",
     "output_type": "stream",
     "text": [
      "Saving the dataset (1/1 shards): 100%|██████████| 16702/16702 [00:00<00:00, 291812.01 examples/s]\n"
     ]
    }
   ],
   "source": [
    "louvre_dataset.save_to_disk(\"louvre_ds_22_13\")"
   ]
  },
  {
   "cell_type": "code",
   "execution_count": 116,
   "metadata": {},
   "outputs": [],
   "source": [
    "from datasets import load_from_disk"
   ]
  },
  {
   "cell_type": "code",
   "execution_count": 117,
   "metadata": {},
   "outputs": [],
   "source": [
    "louvre_dataset = load_from_disk(\"louvre_ds_22_13\")"
   ]
  },
  {
   "cell_type": "code",
   "execution_count": 118,
   "metadata": {},
   "outputs": [
    {
     "data": {
      "text/plain": [
       "Dataset({\n",
       "    features: ['image', 'index', 'materialsAndTechniques', 'description', 'inscriptions', 'displayDateCreated', 'date_end', 'date_start', 'title', 'url', 'arkId', 'attribution', 'artist', 'bibliography'],\n",
       "    num_rows: 16702\n",
       "})"
      ]
     },
     "execution_count": 118,
     "metadata": {},
     "output_type": "execute_result"
    }
   ],
   "source": [
    "louvre_dataset"
   ]
  },
  {
   "cell_type": "code",
   "execution_count": 119,
   "metadata": {},
   "outputs": [
    {
     "data": {
      "text/plain": [
       "{'image': 'https://collections.louvre.fr/media/cache/large/0000000021/0000048442/0000040685_OG.JPG',\n",
       " 'index': \"Mode d'acquisition: partage après fouilles. denomination: peinture. material: encre, épicéa. technic: écriture, badigeonnage, peinture. description: couronne, palmette, Tyché, manteau. period: époque byzantine. place: Edfou. inscriptionWritingSystem: grec oncial, arabe, araméen\",\n",
       " 'materialsAndTechniques': 'Matériau : épicéa\\r\\nMatériau secondaire : encre\\r\\nTechnique : peinture, écriture, badigeonnage',\n",
       " 'description': 'Décor : Tyché ; couronne ; manteau ; palmette',\n",
       " 'inscriptions': 'Écriture : \\r ; arabe (au revers)\\r ; araméen (melkite, sous la peinture)\\r ; grec oncial\\r ; Traduction : \\r ; la belle florissante',\n",
       " 'displayDateCreated': 'époque byzantine (1e moitié VIIe s. ap. JC) (inscription/dédicace/signature) (600 - 649)',\n",
       " 'date_end': '649',\n",
       " 'date_start': '600',\n",
       " 'title': 'Tyché de Constantinople',\n",
       " 'url': 'https://collections.louvre.fr/ark:/53355/cl010048442',\n",
       " 'arkId': 'cl010048442',\n",
       " 'attribution': '',\n",
       " 'artist': '',\n",
       " 'bibliography': \"Silk Roads, cat. exp. (Londres (Externe, Royaume Uni), British Museum, 26/09/2024-23/02/2025), Londres, British Museum Press, 2024; Mathews, Thomas F., \\tLes origines païennes des icônes, Paris, Les éditions du Cerf, 2016; Fluck, Cäcilia ; Helmecke, Gisela ; O'Connell, Elisabeth R. (dir.), Egypt : faith after the pharaohs, cat. exp. (London, British Museum, 2015-2016), London, The British Museum /Michael Imhof Verlag, 2015; Fluck, Cäcilia, Helmecke, Gisela, O'Connell, Elisabeth R. (dir.), Ein Gott, Abrahams Erben am Nil, Juden, Christen und Muslime in Ägypten von der Antike bis zum Mittelalter, cat. exp. (Berlin (Allemagne), Bode-Museum, 2015), Petersberg, Michael Imhof Verlag, 2015; Poulsen, Birte, « City personifications in Late Antiquity », dans Birke, Stine ; Kristensen, Troels Myrup ; Poulsen, Birte (dir.), Using images in Late Antiquity, Oxford, Oxbow books, 2014; Rondot, Vincent, Derniers visages des dieux d’Egypte : iconographies, panthéons et cultes dans le Fayoum hellénisé des IIe-IIIe siècles de notre ère, Paris, Louvre éditions ; Presses de l'université Paris-Sorbonne, (Passé Présent), 2013; Marsengill, Katherine, Portraits and icons : Between reality and spirituality in Byzantine art, Turnhout, Brepols, 2013; Bénazeth, Dominique, « Les textiles conservés à la section copte du musée du Louvre : évolution d'une collection », dans Drawing the threads together : textiles and footwear of the 1st millennium AD from Egypt : proceedings of the 7th conference of the research group 'Textiles from the Nile Valley', Antwerp, 7-9 October 2011, Tielt, Lannoo, 2013, p. 88-90; Bel, Nicolas ; Giroire, Cécile ; Gombert, Florence ; Rutschowscaya, Marie-Hélène (dir.), L'Orient romain et byzantin au Louvre, Arles / Paris, Actes Sud / Louvre éditions, 2012; Andreu, Guillemette (dir.), Objets d'Égypte : des rives du Nil aux bords de Seine, [Musée du Louvre, Paris], Paris, Le Passage Paris-New York éditions / Louvre éditions, 2009; Andreu, Guillemette (dir.), Objets d'Égypte : des rives du Nil aux bords de Seine, [Musée du Louvre, Paris], Paris, Le Passage Paris-New York éditions / Louvre éditions, 2009; Pomarède, Vincent, 1001 Peintures au Louvre : de l'Antiquité au XIXe siècle, Paris, Musée du Louvre éditions, 2005; Rutschowscaya, Marie-Hélène ; Bénazeth, Dominique, « Apports des fouilles d'Edfou au musée du Louvre », dans Tell-Edfou soixante ans après, Actes du colloque franco-polonais, Le Caire, 15 octobre 1996, Fouilles franco-polonaises, 4, Le Caire, Institut français d'archéologie orientale (IFAO), 1999, p.55-58; Andreu, Guillemette ; Rutschowscaya, Marie-Hélène ; Ziegler, Christiane, L'Égypte ancienne au Louvre, [Musée du Louvre, Paris], Paris, Hachette, 1997; Desreumaux, Alain, « Une inscription araméenne melkite sous une peinture copte du musée du Louvre. Le texte araméen melkite », Oriens Christianus, 80, 1996, p. 82-97; Durand, Jannic (commissaire général) (dir.), Byzance : L'art byzantin dans les collections publiques françaises, cat. exp. (Paris, Musée du Louvre, 6 novembre 1992 - 1er février 1993), Paris, Réunion des musées nationaux, 1992; Rutschowscaya, Marie-Hélène, Musée du Louvre, département des Antiquités égyptiennes. La peinture copte, Paris, Réunion des musées nationaux, 1992; Rutschowscaya, Marie-Hélène, « La peinture sur bois dans les collections coptes du musée du Louvre », dans Rassart-Debergh, Marguerite (dir.), Actes du IVe Congrès copte, Louvain-la-Neuve, 5-10 septembre 1988, Publications de l'Institut Orientaliste de Louvain, 40, Louvain-la-Neuve, Université catholique de Louvain, 1992, p. 56-62; Rutschowscaya, Marie-Hélène ; Desreumaux, Alain, « Une peinture copte sur un bois inscrit en araméen christo-palestinien au musée du Louvre », Comptes rendus de l'Académie des Inscriptions & Belles-Lettres (CRAI), 1992, p. 83-92; Rassart-Debergh, Marguerite, « De l'icône païenne à l'icône chrétienne », Le monde copte : revue trimestrielle de la culture copte, 18, 1990, p. 39-70; Henne, Henri, Rapport sur les fouilles de Tell Edfou (1921-1922), Le Caire, (FIFAO ; 1), 1924\"}"
      ]
     },
     "execution_count": 119,
     "metadata": {},
     "output_type": "execute_result"
    }
   ],
   "source": []
  },
  {
   "cell_type": "code",
   "execution_count": null,
   "metadata": {},
   "outputs": [],
   "source": []
  }
 ],
 "metadata": {
  "kernelspec": {
   "display_name": "env",
   "language": "python",
   "name": "python3"
  },
  "language_info": {
   "codemirror_mode": {
    "name": "ipython",
    "version": 3
   },
   "file_extension": ".py",
   "mimetype": "text/x-python",
   "name": "python",
   "nbconvert_exporter": "python",
   "pygments_lexer": "ipython3",
   "version": "3.12.4"
  },
  "orig_nbformat": 4
 },
 "nbformat": 4,
 "nbformat_minor": 2
}
